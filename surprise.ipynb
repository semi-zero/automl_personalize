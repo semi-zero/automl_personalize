{
 "cells": [
  {
   "cell_type": "code",
   "execution_count": 1,
   "id": "7db24dec-fa8e-4144-ad46-a4dfd5a7dc60",
   "metadata": {},
   "outputs": [],
   "source": [
    "import numpy as np\n",
    "import pandas as pd\n",
    "import os\n",
    "\n",
    "from sklearn.metrics import mean_squared_error\n",
    "from sklearn.metrics.pairwise import pairwise_distances, cosine_similarity\n",
    "\n",
    "#surprise\n",
    "from surprise import SVD, accuracy\n",
    "from surprise import Dataset, Reader\n",
    "from surprise.model_selection import train_test_split, cross_validate, GridSearchCV"
   ]
  },
  {
   "cell_type": "code",
   "execution_count": 2,
   "id": "dad4d86c-56a6-4af8-8d9a-f2ca0e09ec45",
   "metadata": {},
   "outputs": [],
   "source": [
    "data_path = 'storage/movie_data/interaction_data.csv'\n",
    "_num_recommendations=10\n",
    "_viewer_threshold=5\n",
    "item_id_var = 'ITEM_ID'\n",
    "user_id_var = 'USER_ID'\n",
    "event = 'EVENT_TYPE'\n",
    "timestamp = 'TIMESTAMP'"
   ]
  },
  {
   "cell_type": "code",
   "execution_count": null,
   "id": "43c05046-0662-46f4-b478-2745ce1be4d0",
   "metadata": {},
   "outputs": [],
   "source": []
  },
  {
   "cell_type": "code",
   "execution_count": 3,
   "id": "1f685189-8a7e-4558-b5cf-218334b80ea7",
   "metadata": {},
   "outputs": [],
   "source": [
    "data = pd.read_csv(data_path)\n",
    "data[item_id_var] = data[item_id_var].astype(str)\n",
    "data[user_id_var] = data[user_id_var].astype(str)\n",
    "\n",
    "#interaction 데이터셋 생성\n",
    "interaction_df=data[[item_id_var, user_id_var, event, timestamp]]\n",
    "if data[event].dtypes != float:\n",
    "    interaction_df.loc[:, event] = 1\n",
    "\n",
    "#user 데이터셋 생성\n",
    "user_df = data[[user_id_var]].drop_duplicates(user_id_var).reset_index(drop=True)\n",
    "\n",
    "#item 데이터셋 생성\n",
    "item_df = data[[item_id_var]].drop_duplicates(item_id_var).reset_index(drop=True)"
   ]
  },
  {
   "cell_type": "code",
   "execution_count": 60,
   "id": "c5b2166a-db39-4c4d-8fa6-f782382a8462",
   "metadata": {},
   "outputs": [
    {
     "data": {
      "text/plain": [
       "ITEM_ID         object\n",
       "USER_ID         object\n",
       "EVENT_TYPE     float64\n",
       "TIMESTAMP       object\n",
       "predictions    float64\n",
       "dtype: object"
      ]
     },
     "execution_count": 60,
     "metadata": {},
     "output_type": "execute_result"
    }
   ],
   "source": [
    "interaction_df.dtypes"
   ]
  },
  {
   "cell_type": "code",
   "execution_count": 4,
   "id": "a094ec79-a38f-4ac8-a37b-5965cf87fc7f",
   "metadata": {},
   "outputs": [],
   "source": [
    "reader = Reader(rating_scale = (0.5, 5))\n",
    "df = Dataset.load_from_df(data[[user_id_var, item_id_var, event]], \n",
    "                          reader = reader)\n",
    "train, test = train_test_split(df, test_size = 0.25, random_state=42)"
   ]
  },
  {
   "cell_type": "code",
   "execution_count": 5,
   "id": "2d4a4b97-c7c6-4e0f-a401-f5ef48bdaaa9",
   "metadata": {},
   "outputs": [
    {
     "data": {
      "text/plain": [
       "<surprise.prediction_algorithms.matrix_factorization.SVD at 0x28d60abb208>"
      ]
     },
     "execution_count": 5,
     "metadata": {},
     "output_type": "execute_result"
    }
   ],
   "source": [
    "algo = SVD()\n",
    "algo.fit(train)"
   ]
  },
  {
   "cell_type": "code",
   "execution_count": 6,
   "id": "755676ed-3120-4e69-9962-6058f6412b6a",
   "metadata": {},
   "outputs": [
    {
     "name": "stdout",
     "output_type": "stream",
     "text": [
      "RMSE: 0.8543\n"
     ]
    },
    {
     "data": {
      "text/plain": [
       "0.8543272521921764"
      ]
     },
     "execution_count": 6,
     "metadata": {},
     "output_type": "execute_result"
    }
   ],
   "source": [
    "predictions = algo.test(test)\n",
    "accuracy.rmse(predictions)"
   ]
  },
  {
   "cell_type": "code",
   "execution_count": null,
   "id": "18f4472a-fbbc-4580-b21f-a2c53edcbed0",
   "metadata": {},
   "outputs": [],
   "source": [
    "# cross_validate(algo, df, measures=['RMSE', 'MAE'], cv = 5, verbose=True)\n",
    "# from surprise.model_selection import cross_validate\n",
    "# from surprise.model_selection import GridSearchCV\n",
    "\n",
    "# param_grid = {'n_epochs' : [20, 40], 'n_factors': [50, 100, 200]}\n",
    "# grid = GridSearchCV(SVD, param_grid = param_grid, measures = ['rmse', 'mae'], cv=3)\n",
    "# grid.fit(df)\n",
    "# print(grid.best_score['rmse'])\n",
    "# print(grid.best_params['rmse'])"
   ]
  },
  {
   "cell_type": "code",
   "execution_count": 7,
   "id": "6148213c-489a-4536-82ae-c73be46214bf",
   "metadata": {},
   "outputs": [],
   "source": [
    "def get_predictions(x):\n",
    "    result = algo.predict(x[user_id_var], x[item_id_var]).est\n",
    "    return result"
   ]
  },
  {
   "cell_type": "code",
   "execution_count": 8,
   "id": "d2afb007-93a4-4c0b-bcc8-0c07bd82ffd2",
   "metadata": {},
   "outputs": [
    {
     "name": "stderr",
     "output_type": "stream",
     "text": [
      "C:\\Users\\LDCC\\anaconda3\\envs\\practice\\lib\\site-packages\\ipykernel_launcher.py:1: SettingWithCopyWarning: \n",
      "A value is trying to be set on a copy of a slice from a DataFrame.\n",
      "Try using .loc[row_indexer,col_indexer] = value instead\n",
      "\n",
      "See the caveats in the documentation: https://pandas.pydata.org/pandas-docs/stable/user_guide/indexing.html#returning-a-view-versus-a-copy\n",
      "  \"\"\"Entry point for launching an IPython kernel.\n"
     ]
    }
   ],
   "source": [
    "interaction_df['predictions'] = interaction_df.apply(get_predictions, axis=1)"
   ]
  },
  {
   "cell_type": "code",
   "execution_count": 9,
   "id": "842eaf73-4319-4112-a3b6-631700d45777",
   "metadata": {},
   "outputs": [
    {
     "data": {
      "text/html": [
       "<div>\n",
       "<style scoped>\n",
       "    .dataframe tbody tr th:only-of-type {\n",
       "        vertical-align: middle;\n",
       "    }\n",
       "\n",
       "    .dataframe tbody tr th {\n",
       "        vertical-align: top;\n",
       "    }\n",
       "\n",
       "    .dataframe thead th {\n",
       "        text-align: right;\n",
       "    }\n",
       "</style>\n",
       "<table border=\"1\" class=\"dataframe\">\n",
       "  <thead>\n",
       "    <tr style=\"text-align: right;\">\n",
       "      <th></th>\n",
       "      <th>ITEM_ID</th>\n",
       "      <th>USER_ID</th>\n",
       "      <th>EVENT_TYPE</th>\n",
       "      <th>TIMESTAMP</th>\n",
       "      <th>predictions</th>\n",
       "    </tr>\n",
       "  </thead>\n",
       "  <tbody>\n",
       "    <tr>\n",
       "      <th>0</th>\n",
       "      <td>307</td>\n",
       "      <td>1</td>\n",
       "      <td>3.5</td>\n",
       "      <td>2009-10-27 21:00:21</td>\n",
       "      <td>3.945435</td>\n",
       "    </tr>\n",
       "    <tr>\n",
       "      <th>1</th>\n",
       "      <td>481</td>\n",
       "      <td>1</td>\n",
       "      <td>3.5</td>\n",
       "      <td>2009-10-27 21:04:16</td>\n",
       "      <td>3.108798</td>\n",
       "    </tr>\n",
       "    <tr>\n",
       "      <th>2</th>\n",
       "      <td>1091</td>\n",
       "      <td>1</td>\n",
       "      <td>1.5</td>\n",
       "      <td>2009-10-27 21:04:31</td>\n",
       "      <td>2.377546</td>\n",
       "    </tr>\n",
       "    <tr>\n",
       "      <th>3</th>\n",
       "      <td>1257</td>\n",
       "      <td>1</td>\n",
       "      <td>4.5</td>\n",
       "      <td>2009-10-27 21:04:20</td>\n",
       "      <td>3.876572</td>\n",
       "    </tr>\n",
       "    <tr>\n",
       "      <th>4</th>\n",
       "      <td>1449</td>\n",
       "      <td>1</td>\n",
       "      <td>4.5</td>\n",
       "      <td>2009-10-27 21:01:04</td>\n",
       "      <td>3.968619</td>\n",
       "    </tr>\n",
       "    <tr>\n",
       "      <th>...</th>\n",
       "      <td>...</td>\n",
       "      <td>...</td>\n",
       "      <td>...</td>\n",
       "      <td>...</td>\n",
       "      <td>...</td>\n",
       "    </tr>\n",
       "    <tr>\n",
       "      <th>994877</th>\n",
       "      <td>183843</td>\n",
       "      <td>10000</td>\n",
       "      <td>4.0</td>\n",
       "      <td>2018-09-23 10:59:17</td>\n",
       "      <td>3.380715</td>\n",
       "    </tr>\n",
       "    <tr>\n",
       "      <th>994878</th>\n",
       "      <td>183869</td>\n",
       "      <td>10000</td>\n",
       "      <td>4.0</td>\n",
       "      <td>2018-08-25 22:48:12</td>\n",
       "      <td>3.204030</td>\n",
       "    </tr>\n",
       "    <tr>\n",
       "      <th>994879</th>\n",
       "      <td>184721</td>\n",
       "      <td>10000</td>\n",
       "      <td>4.0</td>\n",
       "      <td>2018-08-10 20:47:47</td>\n",
       "      <td>3.180112</td>\n",
       "    </tr>\n",
       "    <tr>\n",
       "      <th>994880</th>\n",
       "      <td>185029</td>\n",
       "      <td>10000</td>\n",
       "      <td>2.5</td>\n",
       "      <td>2018-08-10 17:34:01</td>\n",
       "      <td>3.365124</td>\n",
       "    </tr>\n",
       "    <tr>\n",
       "      <th>994881</th>\n",
       "      <td>185989</td>\n",
       "      <td>10000</td>\n",
       "      <td>2.5</td>\n",
       "      <td>2018-07-10 09:57:10</td>\n",
       "      <td>3.169911</td>\n",
       "    </tr>\n",
       "  </tbody>\n",
       "</table>\n",
       "<p>994882 rows × 5 columns</p>\n",
       "</div>"
      ],
      "text/plain": [
       "       ITEM_ID USER_ID  EVENT_TYPE            TIMESTAMP  predictions\n",
       "0          307       1         3.5  2009-10-27 21:00:21     3.945435\n",
       "1          481       1         3.5  2009-10-27 21:04:16     3.108798\n",
       "2         1091       1         1.5  2009-10-27 21:04:31     2.377546\n",
       "3         1257       1         4.5  2009-10-27 21:04:20     3.876572\n",
       "4         1449       1         4.5  2009-10-27 21:01:04     3.968619\n",
       "...        ...     ...         ...                  ...          ...\n",
       "994877  183843   10000         4.0  2018-09-23 10:59:17     3.380715\n",
       "994878  183869   10000         4.0  2018-08-25 22:48:12     3.204030\n",
       "994879  184721   10000         4.0  2018-08-10 20:47:47     3.180112\n",
       "994880  185029   10000         2.5  2018-08-10 17:34:01     3.365124\n",
       "994881  185989   10000         2.5  2018-07-10 09:57:10     3.169911\n",
       "\n",
       "[994882 rows x 5 columns]"
      ]
     },
     "execution_count": 9,
     "metadata": {},
     "output_type": "execute_result"
    }
   ],
   "source": [
    "interaction_df"
   ]
  },
  {
   "cell_type": "code",
   "execution_count": 89,
   "id": "71bd4d8e-212b-4a6c-b2f0-baee6ddb9cdd",
   "metadata": {},
   "outputs": [
    {
     "name": "stdout",
     "output_type": "stream",
     "text": [
      "307 1\n"
     ]
    }
   ],
   "source": [
    "preds_df = pd.DataFrame(columns = [item_id_var, user_id_var])\n",
    "for iid, uid in zip(item_df[item_id_var].unique(), user_df[user_id_var].unique()):\n",
    "    print(iid, uid)\n",
    "    preds_df.loc[:, item_id_var] = iid\n",
    "    preds_df.loc[:, user_id_var] = uid\n",
    "    break"
   ]
  },
  {
   "cell_type": "code",
   "execution_count": null,
   "id": "242a7626-c28d-486d-b741-bca5e592a4d6",
   "metadata": {},
   "outputs": [],
   "source": [
    "pred_list_df.head()"
   ]
  },
  {
   "cell_type": "code",
   "execution_count": 128,
   "id": "b446d8e8-b246-466e-96b0-91115f393d0b",
   "metadata": {},
   "outputs": [],
   "source": [
    "#아이템별 precision@k와 recall@k의 값을 알려줌\n",
    "def precision_recall(preds_df, item_df, interaction_df, num, user_id):\n",
    "\n",
    "    def intersect(a, b):\n",
    "        return list(set(a) & set(b))\n",
    "    \n",
    "    \n",
    "    #유저 아이디 df\n",
    "    user_id_df = interaction_df[interaction_df[user_id_var]==user_id]\n",
    "    \n",
    "    #유저 아이디가 본 아이텤 df\n",
    "    user_item_df = item_df[item_df[item_id_var].isin(user_id_df[item_id_var].tolist())]\n",
    "    user_item_list = user_item_df[item_id_var].tolist()\n",
    "    \n",
    "    #추천 아이템 추출\n",
    "    sorted_user_predictions = preds_df.sort_values('predictions',ascending=False)\n",
    "    #sorted_user_predictions.columns = [item_id_var, 'predictions']\n",
    "    \n",
    "    recommend_total_list_df = sorted_user_predictions.head(num)\n",
    "    recommend_total_list = recommend_total_list_df[item_id_var].tolist()\n",
    "    \n",
    "    #순수 추천 아이템 리스트\n",
    "    recommend_df = item_df[~item_df[item_id_var].isin(user_item_list)]\n",
    "    recommend_df = recommend_df.merge(sorted_user_predictions, how='inner', on=item_id_var).sort_values('predictions', ascending=False).head(num)\n",
    "    \n",
    "   \n",
    "    \n",
    "    #지표 산정\n",
    "    precision = len(intersect(user_item_list, recommend_total_list))/ len(recommend_total_list)\n",
    "    recall = len(intersect(user_item_list, recommend_total_list)) / len(user_item_list)\n",
    "    \n",
    "    return precision, recall, user_item_df, recommend_df\n",
    "\n",
    "\n",
    "def perf_metric(user_df, item_df, interaction_df, num):\n",
    "    \n",
    "    user_item_dfs = pd.DataFrame()\n",
    "    recommend_dfs = pd.DataFrame()\n",
    "    dict_list = []\n",
    "    for USER_ID in tqdm.tqdm(user_df[user_id_var].values):\n",
    "    #for USER_ID in tqdm.tqdm(['1','2','3','4']):\n",
    "        preds_df = item_df.copy()\n",
    "        preds_df.loc[:, user_id_var] = USER_ID\n",
    "        preds_df.loc[:, 'predictions'] = preds_df.apply(get_predictions, axis=1)\n",
    "        #preds_df = interaction_df[interaction_df[user_id_var]==USER_ID][[user_id_var, item_id_var, 'predictions']]\n",
    "        precision, recall, user_item_df, recommend_df = precision_recall(preds_df, item_df, interaction_df, num, USER_ID)\n",
    "        dict_ = {}\n",
    "        dict_.update({\"userID\" : USER_ID})\n",
    "        dict_.update({f\"precision@{num}\" : precision})\n",
    "        dict_.update({f\"recall@{num}\" : recall})\n",
    "        dict_list.append(dict_)\n",
    "        \n",
    "        #이미 user가 선정했던 item 확인\n",
    "        user_item_df.loc[:, user_id_var] = USER_ID\n",
    "        user_item_dfs= pd.concat([user_item_dfs, user_item_df], axis=0)\n",
    "    \n",
    "    \n",
    "        #상위 추천 item 중 이미 user가 선정했던 item 제외 후 추천 목록 추출\n",
    "        recommend_df.loc[:, user_id_var] = USER_ID\n",
    "        recommend_dfs = pd.concat([recommend_dfs, recommend_df], axis=0)\n",
    "    accuracy_df = pd.DataFrame(dict_list)\n",
    "    return accuracy_df, user_item_dfs, recommend_dfs"
   ]
  },
  {
   "cell_type": "code",
   "execution_count": 129,
   "id": "a859da4f-e9c8-40eb-ad6b-e68ed11541bc",
   "metadata": {
    "collapsed": true,
    "jupyter": {
     "outputs_hidden": true
    },
    "tags": []
   },
   "outputs": [
    {
     "name": "stderr",
     "output_type": "stream",
     "text": [
      "  0%|                                                                              | 5/10000 [00:09<5:14:35,  1.89s/it]\n"
     ]
    },
    {
     "ename": "KeyboardInterrupt",
     "evalue": "",
     "output_type": "error",
     "traceback": [
      "\u001b[1;31m---------------------------------------------------------------------------\u001b[0m",
      "\u001b[1;31mKeyboardInterrupt\u001b[0m                         Traceback (most recent call last)",
      "\u001b[1;32m~\\AppData\\Local\\Temp\\ipykernel_9124\\314809512.py\u001b[0m in \u001b[0;36m<module>\u001b[1;34m\u001b[0m\n\u001b[1;32m----> 1\u001b[1;33m \u001b[0maccuracy_df\u001b[0m\u001b[1;33m,\u001b[0m \u001b[0muser_item_df\u001b[0m\u001b[1;33m,\u001b[0m \u001b[0mrecommendations_df\u001b[0m \u001b[1;33m=\u001b[0m \u001b[0mperf_metric\u001b[0m\u001b[1;33m(\u001b[0m\u001b[0muser_df\u001b[0m\u001b[1;33m,\u001b[0m \u001b[0mitem_df\u001b[0m\u001b[1;33m,\u001b[0m \u001b[0minteraction_df\u001b[0m\u001b[1;33m,\u001b[0m \u001b[0mnum\u001b[0m \u001b[1;33m=\u001b[0m \u001b[1;36m10\u001b[0m\u001b[1;33m)\u001b[0m\u001b[1;33m\u001b[0m\u001b[1;33m\u001b[0m\u001b[0m\n\u001b[0m",
      "\u001b[1;32m~\\AppData\\Local\\Temp\\ipykernel_9124\\354148726.py\u001b[0m in \u001b[0;36mperf_metric\u001b[1;34m(user_df, item_df, interaction_df, num)\u001b[0m\n\u001b[0;32m     42\u001b[0m         \u001b[0mpreds_df\u001b[0m \u001b[1;33m=\u001b[0m \u001b[0mitem_df\u001b[0m\u001b[1;33m.\u001b[0m\u001b[0mcopy\u001b[0m\u001b[1;33m(\u001b[0m\u001b[1;33m)\u001b[0m\u001b[1;33m\u001b[0m\u001b[1;33m\u001b[0m\u001b[0m\n\u001b[0;32m     43\u001b[0m         \u001b[0mpreds_df\u001b[0m\u001b[1;33m.\u001b[0m\u001b[0mloc\u001b[0m\u001b[1;33m[\u001b[0m\u001b[1;33m:\u001b[0m\u001b[1;33m,\u001b[0m \u001b[0muser_id_var\u001b[0m\u001b[1;33m]\u001b[0m \u001b[1;33m=\u001b[0m \u001b[0mUSER_ID\u001b[0m\u001b[1;33m\u001b[0m\u001b[1;33m\u001b[0m\u001b[0m\n\u001b[1;32m---> 44\u001b[1;33m         \u001b[0mpreds_df\u001b[0m\u001b[1;33m.\u001b[0m\u001b[0mloc\u001b[0m\u001b[1;33m[\u001b[0m\u001b[1;33m:\u001b[0m\u001b[1;33m,\u001b[0m \u001b[1;34m'predictions'\u001b[0m\u001b[1;33m]\u001b[0m \u001b[1;33m=\u001b[0m \u001b[0mpreds_df\u001b[0m\u001b[1;33m.\u001b[0m\u001b[0mapply\u001b[0m\u001b[1;33m(\u001b[0m\u001b[0mget_predictions\u001b[0m\u001b[1;33m,\u001b[0m \u001b[0maxis\u001b[0m\u001b[1;33m=\u001b[0m\u001b[1;36m1\u001b[0m\u001b[1;33m)\u001b[0m\u001b[1;33m\u001b[0m\u001b[1;33m\u001b[0m\u001b[0m\n\u001b[0m\u001b[0;32m     45\u001b[0m         \u001b[1;31m#preds_df = interaction_df[interaction_df[user_id_var]==USER_ID][[user_id_var, item_id_var, 'predictions']]\u001b[0m\u001b[1;33m\u001b[0m\u001b[1;33m\u001b[0m\u001b[1;33m\u001b[0m\u001b[0m\n\u001b[0;32m     46\u001b[0m         \u001b[0mprecision\u001b[0m\u001b[1;33m,\u001b[0m \u001b[0mrecall\u001b[0m\u001b[1;33m,\u001b[0m \u001b[0muser_item_df\u001b[0m\u001b[1;33m,\u001b[0m \u001b[0mrecommend_df\u001b[0m \u001b[1;33m=\u001b[0m \u001b[0mprecision_recall\u001b[0m\u001b[1;33m(\u001b[0m\u001b[0mpreds_df\u001b[0m\u001b[1;33m,\u001b[0m \u001b[0mitem_df\u001b[0m\u001b[1;33m,\u001b[0m \u001b[0minteraction_df\u001b[0m\u001b[1;33m,\u001b[0m \u001b[0mnum\u001b[0m\u001b[1;33m,\u001b[0m \u001b[0mUSER_ID\u001b[0m\u001b[1;33m)\u001b[0m\u001b[1;33m\u001b[0m\u001b[1;33m\u001b[0m\u001b[0m\n",
      "\u001b[1;32m~\\anaconda3\\envs\\practice\\lib\\site-packages\\pandas\\core\\frame.py\u001b[0m in \u001b[0;36mapply\u001b[1;34m(self, func, axis, raw, result_type, args, **kwargs)\u001b[0m\n\u001b[0;32m   8738\u001b[0m             \u001b[0mkwargs\u001b[0m\u001b[1;33m=\u001b[0m\u001b[0mkwargs\u001b[0m\u001b[1;33m,\u001b[0m\u001b[1;33m\u001b[0m\u001b[1;33m\u001b[0m\u001b[0m\n\u001b[0;32m   8739\u001b[0m         )\n\u001b[1;32m-> 8740\u001b[1;33m         \u001b[1;32mreturn\u001b[0m \u001b[0mop\u001b[0m\u001b[1;33m.\u001b[0m\u001b[0mapply\u001b[0m\u001b[1;33m(\u001b[0m\u001b[1;33m)\u001b[0m\u001b[1;33m\u001b[0m\u001b[1;33m\u001b[0m\u001b[0m\n\u001b[0m\u001b[0;32m   8741\u001b[0m \u001b[1;33m\u001b[0m\u001b[0m\n\u001b[0;32m   8742\u001b[0m     def applymap(\n",
      "\u001b[1;32m~\\anaconda3\\envs\\practice\\lib\\site-packages\\pandas\\core\\apply.py\u001b[0m in \u001b[0;36mapply\u001b[1;34m(self)\u001b[0m\n\u001b[0;32m    686\u001b[0m             \u001b[1;32mreturn\u001b[0m \u001b[0mself\u001b[0m\u001b[1;33m.\u001b[0m\u001b[0mapply_raw\u001b[0m\u001b[1;33m(\u001b[0m\u001b[1;33m)\u001b[0m\u001b[1;33m\u001b[0m\u001b[1;33m\u001b[0m\u001b[0m\n\u001b[0;32m    687\u001b[0m \u001b[1;33m\u001b[0m\u001b[0m\n\u001b[1;32m--> 688\u001b[1;33m         \u001b[1;32mreturn\u001b[0m \u001b[0mself\u001b[0m\u001b[1;33m.\u001b[0m\u001b[0mapply_standard\u001b[0m\u001b[1;33m(\u001b[0m\u001b[1;33m)\u001b[0m\u001b[1;33m\u001b[0m\u001b[1;33m\u001b[0m\u001b[0m\n\u001b[0m\u001b[0;32m    689\u001b[0m \u001b[1;33m\u001b[0m\u001b[0m\n\u001b[0;32m    690\u001b[0m     \u001b[1;32mdef\u001b[0m \u001b[0magg\u001b[0m\u001b[1;33m(\u001b[0m\u001b[0mself\u001b[0m\u001b[1;33m)\u001b[0m\u001b[1;33m:\u001b[0m\u001b[1;33m\u001b[0m\u001b[1;33m\u001b[0m\u001b[0m\n",
      "\u001b[1;32m~\\anaconda3\\envs\\practice\\lib\\site-packages\\pandas\\core\\apply.py\u001b[0m in \u001b[0;36mapply_standard\u001b[1;34m(self)\u001b[0m\n\u001b[0;32m    810\u001b[0m \u001b[1;33m\u001b[0m\u001b[0m\n\u001b[0;32m    811\u001b[0m     \u001b[1;32mdef\u001b[0m \u001b[0mapply_standard\u001b[0m\u001b[1;33m(\u001b[0m\u001b[0mself\u001b[0m\u001b[1;33m)\u001b[0m\u001b[1;33m:\u001b[0m\u001b[1;33m\u001b[0m\u001b[1;33m\u001b[0m\u001b[0m\n\u001b[1;32m--> 812\u001b[1;33m         \u001b[0mresults\u001b[0m\u001b[1;33m,\u001b[0m \u001b[0mres_index\u001b[0m \u001b[1;33m=\u001b[0m \u001b[0mself\u001b[0m\u001b[1;33m.\u001b[0m\u001b[0mapply_series_generator\u001b[0m\u001b[1;33m(\u001b[0m\u001b[1;33m)\u001b[0m\u001b[1;33m\u001b[0m\u001b[1;33m\u001b[0m\u001b[0m\n\u001b[0m\u001b[0;32m    813\u001b[0m \u001b[1;33m\u001b[0m\u001b[0m\n\u001b[0;32m    814\u001b[0m         \u001b[1;31m# wrap results\u001b[0m\u001b[1;33m\u001b[0m\u001b[1;33m\u001b[0m\u001b[1;33m\u001b[0m\u001b[0m\n",
      "\u001b[1;32m~\\anaconda3\\envs\\practice\\lib\\site-packages\\pandas\\core\\apply.py\u001b[0m in \u001b[0;36mapply_series_generator\u001b[1;34m(self)\u001b[0m\n\u001b[0;32m    826\u001b[0m             \u001b[1;32mfor\u001b[0m \u001b[0mi\u001b[0m\u001b[1;33m,\u001b[0m \u001b[0mv\u001b[0m \u001b[1;32min\u001b[0m \u001b[0menumerate\u001b[0m\u001b[1;33m(\u001b[0m\u001b[0mseries_gen\u001b[0m\u001b[1;33m)\u001b[0m\u001b[1;33m:\u001b[0m\u001b[1;33m\u001b[0m\u001b[1;33m\u001b[0m\u001b[0m\n\u001b[0;32m    827\u001b[0m                 \u001b[1;31m# ignore SettingWithCopy here in case the user mutates\u001b[0m\u001b[1;33m\u001b[0m\u001b[1;33m\u001b[0m\u001b[1;33m\u001b[0m\u001b[0m\n\u001b[1;32m--> 828\u001b[1;33m                 \u001b[0mresults\u001b[0m\u001b[1;33m[\u001b[0m\u001b[0mi\u001b[0m\u001b[1;33m]\u001b[0m \u001b[1;33m=\u001b[0m \u001b[0mself\u001b[0m\u001b[1;33m.\u001b[0m\u001b[0mf\u001b[0m\u001b[1;33m(\u001b[0m\u001b[0mv\u001b[0m\u001b[1;33m)\u001b[0m\u001b[1;33m\u001b[0m\u001b[1;33m\u001b[0m\u001b[0m\n\u001b[0m\u001b[0;32m    829\u001b[0m                 \u001b[1;32mif\u001b[0m \u001b[0misinstance\u001b[0m\u001b[1;33m(\u001b[0m\u001b[0mresults\u001b[0m\u001b[1;33m[\u001b[0m\u001b[0mi\u001b[0m\u001b[1;33m]\u001b[0m\u001b[1;33m,\u001b[0m \u001b[0mABCSeries\u001b[0m\u001b[1;33m)\u001b[0m\u001b[1;33m:\u001b[0m\u001b[1;33m\u001b[0m\u001b[1;33m\u001b[0m\u001b[0m\n\u001b[0;32m    830\u001b[0m                     \u001b[1;31m# If we have a view on v, we need to make a copy because\u001b[0m\u001b[1;33m\u001b[0m\u001b[1;33m\u001b[0m\u001b[1;33m\u001b[0m\u001b[0m\n",
      "\u001b[1;32m~\\AppData\\Local\\Temp\\ipykernel_9124\\1214454139.py\u001b[0m in \u001b[0;36mget_predictions\u001b[1;34m(x)\u001b[0m\n\u001b[0;32m      1\u001b[0m \u001b[1;32mdef\u001b[0m \u001b[0mget_predictions\u001b[0m\u001b[1;33m(\u001b[0m\u001b[0mx\u001b[0m\u001b[1;33m)\u001b[0m\u001b[1;33m:\u001b[0m\u001b[1;33m\u001b[0m\u001b[1;33m\u001b[0m\u001b[0m\n\u001b[1;32m----> 2\u001b[1;33m     \u001b[0mresult\u001b[0m \u001b[1;33m=\u001b[0m \u001b[0malgo\u001b[0m\u001b[1;33m.\u001b[0m\u001b[0mpredict\u001b[0m\u001b[1;33m(\u001b[0m\u001b[0mx\u001b[0m\u001b[1;33m[\u001b[0m\u001b[0muser_id_var\u001b[0m\u001b[1;33m]\u001b[0m\u001b[1;33m,\u001b[0m \u001b[0mx\u001b[0m\u001b[1;33m[\u001b[0m\u001b[0mitem_id_var\u001b[0m\u001b[1;33m]\u001b[0m\u001b[1;33m)\u001b[0m\u001b[1;33m.\u001b[0m\u001b[0mest\u001b[0m\u001b[1;33m\u001b[0m\u001b[1;33m\u001b[0m\u001b[0m\n\u001b[0m\u001b[0;32m      3\u001b[0m     \u001b[1;32mreturn\u001b[0m \u001b[0mresult\u001b[0m\u001b[1;33m\u001b[0m\u001b[1;33m\u001b[0m\u001b[0m\n",
      "\u001b[1;32m~\\anaconda3\\envs\\practice\\lib\\site-packages\\surprise\\prediction_algorithms\\algo_base.py\u001b[0m in \u001b[0;36mpredict\u001b[1;34m(self, uid, iid, r_ui, clip, verbose)\u001b[0m\n\u001b[0;32m    104\u001b[0m         \u001b[0mdetails\u001b[0m \u001b[1;33m=\u001b[0m \u001b[1;33m{\u001b[0m\u001b[1;33m}\u001b[0m\u001b[1;33m\u001b[0m\u001b[1;33m\u001b[0m\u001b[0m\n\u001b[0;32m    105\u001b[0m         \u001b[1;32mtry\u001b[0m\u001b[1;33m:\u001b[0m\u001b[1;33m\u001b[0m\u001b[1;33m\u001b[0m\u001b[0m\n\u001b[1;32m--> 106\u001b[1;33m             \u001b[0mest\u001b[0m \u001b[1;33m=\u001b[0m \u001b[0mself\u001b[0m\u001b[1;33m.\u001b[0m\u001b[0mestimate\u001b[0m\u001b[1;33m(\u001b[0m\u001b[0miuid\u001b[0m\u001b[1;33m,\u001b[0m \u001b[0miiid\u001b[0m\u001b[1;33m)\u001b[0m\u001b[1;33m\u001b[0m\u001b[1;33m\u001b[0m\u001b[0m\n\u001b[0m\u001b[0;32m    107\u001b[0m \u001b[1;33m\u001b[0m\u001b[0m\n\u001b[0;32m    108\u001b[0m             \u001b[1;31m# If the details dict was also returned\u001b[0m\u001b[1;33m\u001b[0m\u001b[1;33m\u001b[0m\u001b[1;33m\u001b[0m\u001b[0m\n",
      "\u001b[1;32m~\\anaconda3\\envs\\practice\\lib\\site-packages\\surprise\\prediction_algorithms\\matrix_factorization.pyx\u001b[0m in \u001b[0;36msurprise.prediction_algorithms.matrix_factorization.SVD.estimate\u001b[1;34m()\u001b[0m\n",
      "\u001b[1;32m<__array_function__ internals>\u001b[0m in \u001b[0;36mdot\u001b[1;34m(*args, **kwargs)\u001b[0m\n",
      "\u001b[1;31mKeyboardInterrupt\u001b[0m: "
     ]
    }
   ],
   "source": [
    "accuracy_df, user_item_df, recommendations_df = perf_metric(user_df, item_df, interaction_df, num = 10) "
   ]
  },
  {
   "cell_type": "code",
   "execution_count": 123,
   "id": "ea786884-6615-4873-ba1f-23fd4281723b",
   "metadata": {},
   "outputs": [
    {
     "data": {
      "text/html": [
       "<div>\n",
       "<style scoped>\n",
       "    .dataframe tbody tr th:only-of-type {\n",
       "        vertical-align: middle;\n",
       "    }\n",
       "\n",
       "    .dataframe tbody tr th {\n",
       "        vertical-align: top;\n",
       "    }\n",
       "\n",
       "    .dataframe thead th {\n",
       "        text-align: right;\n",
       "    }\n",
       "</style>\n",
       "<table border=\"1\" class=\"dataframe\">\n",
       "  <thead>\n",
       "    <tr style=\"text-align: right;\">\n",
       "      <th></th>\n",
       "      <th>userID</th>\n",
       "      <th>precision@10</th>\n",
       "      <th>recall@10</th>\n",
       "    </tr>\n",
       "  </thead>\n",
       "  <tbody>\n",
       "    <tr>\n",
       "      <th>0</th>\n",
       "      <td>1</td>\n",
       "      <td>0.0</td>\n",
       "      <td>0.000000</td>\n",
       "    </tr>\n",
       "    <tr>\n",
       "      <th>1</th>\n",
       "      <td>2</td>\n",
       "      <td>0.0</td>\n",
       "      <td>0.000000</td>\n",
       "    </tr>\n",
       "    <tr>\n",
       "      <th>2</th>\n",
       "      <td>3</td>\n",
       "      <td>0.0</td>\n",
       "      <td>0.000000</td>\n",
       "    </tr>\n",
       "    <tr>\n",
       "      <th>3</th>\n",
       "      <td>4</td>\n",
       "      <td>1.0</td>\n",
       "      <td>0.013587</td>\n",
       "    </tr>\n",
       "  </tbody>\n",
       "</table>\n",
       "</div>"
      ],
      "text/plain": [
       "  userID  precision@10  recall@10\n",
       "0      1           0.0   0.000000\n",
       "1      2           0.0   0.000000\n",
       "2      3           0.0   0.000000\n",
       "3      4           1.0   0.013587"
      ]
     },
     "execution_count": 123,
     "metadata": {},
     "output_type": "execute_result"
    }
   ],
   "source": [
    "accuracy_df"
   ]
  },
  {
   "cell_type": "code",
   "execution_count": 78,
   "id": "9549a577-8a52-4932-8e51-122f32ac26dd",
   "metadata": {},
   "outputs": [],
   "source": [
    "preds_df = interaction_df[interaction_df[user_id_var]=='1'][[user_id_var, item_id_var, 'predictions']]\n",
    "sorted_user_predictions = preds_df.sort_values('predictions',ascending=False)\n",
    "recommend_df = item_df[~item_df[item_id_var].isin(['307', '481', '1091', '1257', '1449', '1590', '1591', '2134', '2478', '2840', '2986', '3020', '3424', '3698', '3826', '3893'])]\n",
    "#recommend_df = pd.merge(recommend_df, sorted_user_predictions, how='inner', on=item_id_var)"
   ]
  },
  {
   "cell_type": "code",
   "execution_count": 101,
   "id": "e756909f-1d3e-478a-9715-03b3990ca6cd",
   "metadata": {},
   "outputs": [
    {
     "data": {
      "text/html": [
       "<div>\n",
       "<style scoped>\n",
       "    .dataframe tbody tr th:only-of-type {\n",
       "        vertical-align: middle;\n",
       "    }\n",
       "\n",
       "    .dataframe tbody tr th {\n",
       "        vertical-align: top;\n",
       "    }\n",
       "\n",
       "    .dataframe thead th {\n",
       "        text-align: right;\n",
       "    }\n",
       "</style>\n",
       "<table border=\"1\" class=\"dataframe\">\n",
       "  <thead>\n",
       "    <tr style=\"text-align: right;\">\n",
       "      <th></th>\n",
       "      <th>ITEM_ID</th>\n",
       "      <th>USER_ID</th>\n",
       "      <th>EVENT_TYPE</th>\n",
       "      <th>TIMESTAMP</th>\n",
       "      <th>predictions</th>\n",
       "    </tr>\n",
       "  </thead>\n",
       "  <tbody>\n",
       "    <tr>\n",
       "      <th>0</th>\n",
       "      <td>307</td>\n",
       "      <td>1</td>\n",
       "      <td>3.5</td>\n",
       "      <td>2009-10-27 21:00:21</td>\n",
       "      <td>3.945435</td>\n",
       "    </tr>\n",
       "    <tr>\n",
       "      <th>1</th>\n",
       "      <td>481</td>\n",
       "      <td>1</td>\n",
       "      <td>3.5</td>\n",
       "      <td>2009-10-27 21:04:16</td>\n",
       "      <td>3.108798</td>\n",
       "    </tr>\n",
       "    <tr>\n",
       "      <th>2</th>\n",
       "      <td>1091</td>\n",
       "      <td>1</td>\n",
       "      <td>1.5</td>\n",
       "      <td>2009-10-27 21:04:31</td>\n",
       "      <td>2.377546</td>\n",
       "    </tr>\n",
       "    <tr>\n",
       "      <th>3</th>\n",
       "      <td>1257</td>\n",
       "      <td>1</td>\n",
       "      <td>4.5</td>\n",
       "      <td>2009-10-27 21:04:20</td>\n",
       "      <td>3.876572</td>\n",
       "    </tr>\n",
       "    <tr>\n",
       "      <th>4</th>\n",
       "      <td>1449</td>\n",
       "      <td>1</td>\n",
       "      <td>4.5</td>\n",
       "      <td>2009-10-27 21:01:04</td>\n",
       "      <td>3.968619</td>\n",
       "    </tr>\n",
       "    <tr>\n",
       "      <th>5</th>\n",
       "      <td>1590</td>\n",
       "      <td>1</td>\n",
       "      <td>2.5</td>\n",
       "      <td>2009-10-27 21:00:36</td>\n",
       "      <td>3.042392</td>\n",
       "    </tr>\n",
       "    <tr>\n",
       "      <th>6</th>\n",
       "      <td>1591</td>\n",
       "      <td>1</td>\n",
       "      <td>1.5</td>\n",
       "      <td>2009-10-27 21:04:35</td>\n",
       "      <td>2.430086</td>\n",
       "    </tr>\n",
       "    <tr>\n",
       "      <th>7</th>\n",
       "      <td>2134</td>\n",
       "      <td>1</td>\n",
       "      <td>4.5</td>\n",
       "      <td>2009-10-27 21:04:24</td>\n",
       "      <td>3.633599</td>\n",
       "    </tr>\n",
       "    <tr>\n",
       "      <th>8</th>\n",
       "      <td>2478</td>\n",
       "      <td>1</td>\n",
       "      <td>4.0</td>\n",
       "      <td>2009-10-27 21:00:39</td>\n",
       "      <td>2.969210</td>\n",
       "    </tr>\n",
       "    <tr>\n",
       "      <th>9</th>\n",
       "      <td>2840</td>\n",
       "      <td>1</td>\n",
       "      <td>3.0</td>\n",
       "      <td>2009-10-27 21:05:00</td>\n",
       "      <td>3.104363</td>\n",
       "    </tr>\n",
       "    <tr>\n",
       "      <th>10</th>\n",
       "      <td>2986</td>\n",
       "      <td>1</td>\n",
       "      <td>2.5</td>\n",
       "      <td>2009-10-27 21:04:56</td>\n",
       "      <td>2.355922</td>\n",
       "    </tr>\n",
       "    <tr>\n",
       "      <th>11</th>\n",
       "      <td>3020</td>\n",
       "      <td>1</td>\n",
       "      <td>4.0</td>\n",
       "      <td>2009-10-27 21:01:00</td>\n",
       "      <td>3.551900</td>\n",
       "    </tr>\n",
       "    <tr>\n",
       "      <th>12</th>\n",
       "      <td>3424</td>\n",
       "      <td>1</td>\n",
       "      <td>4.5</td>\n",
       "      <td>2009-10-27 21:04:04</td>\n",
       "      <td>3.819577</td>\n",
       "    </tr>\n",
       "    <tr>\n",
       "      <th>13</th>\n",
       "      <td>3698</td>\n",
       "      <td>1</td>\n",
       "      <td>3.5</td>\n",
       "      <td>2009-10-27 21:00:43</td>\n",
       "      <td>3.140627</td>\n",
       "    </tr>\n",
       "    <tr>\n",
       "      <th>14</th>\n",
       "      <td>3826</td>\n",
       "      <td>1</td>\n",
       "      <td>2.0</td>\n",
       "      <td>2009-10-27 21:00:10</td>\n",
       "      <td>2.337176</td>\n",
       "    </tr>\n",
       "    <tr>\n",
       "      <th>15</th>\n",
       "      <td>3893</td>\n",
       "      <td>1</td>\n",
       "      <td>3.5</td>\n",
       "      <td>2009-10-27 21:04:46</td>\n",
       "      <td>3.348126</td>\n",
       "    </tr>\n",
       "  </tbody>\n",
       "</table>\n",
       "</div>"
      ],
      "text/plain": [
       "   ITEM_ID USER_ID  EVENT_TYPE            TIMESTAMP  predictions\n",
       "0      307       1         3.5  2009-10-27 21:00:21     3.945435\n",
       "1      481       1         3.5  2009-10-27 21:04:16     3.108798\n",
       "2     1091       1         1.5  2009-10-27 21:04:31     2.377546\n",
       "3     1257       1         4.5  2009-10-27 21:04:20     3.876572\n",
       "4     1449       1         4.5  2009-10-27 21:01:04     3.968619\n",
       "5     1590       1         2.5  2009-10-27 21:00:36     3.042392\n",
       "6     1591       1         1.5  2009-10-27 21:04:35     2.430086\n",
       "7     2134       1         4.5  2009-10-27 21:04:24     3.633599\n",
       "8     2478       1         4.0  2009-10-27 21:00:39     2.969210\n",
       "9     2840       1         3.0  2009-10-27 21:05:00     3.104363\n",
       "10    2986       1         2.5  2009-10-27 21:04:56     2.355922\n",
       "11    3020       1         4.0  2009-10-27 21:01:00     3.551900\n",
       "12    3424       1         4.5  2009-10-27 21:04:04     3.819577\n",
       "13    3698       1         3.5  2009-10-27 21:00:43     3.140627\n",
       "14    3826       1         2.0  2009-10-27 21:00:10     2.337176\n",
       "15    3893       1         3.5  2009-10-27 21:04:46     3.348126"
      ]
     },
     "execution_count": 101,
     "metadata": {},
     "output_type": "execute_result"
    }
   ],
   "source": [
    "interaction_df[interaction_df[user_id_var]=='1']"
   ]
  },
  {
   "cell_type": "code",
   "execution_count": 110,
   "id": "28730205-d453-418b-946c-932d59bc43d8",
   "metadata": {},
   "outputs": [
    {
     "data": {
      "text/plain": [
       "22011"
      ]
     },
     "execution_count": 110,
     "metadata": {},
     "output_type": "execute_result"
    }
   ],
   "source": [
    "len(item_df)"
   ]
  },
  {
   "cell_type": "code",
   "execution_count": 17,
   "id": "774cfb62-7334-4abb-b694-38200eb92717",
   "metadata": {},
   "outputs": [],
   "source": [
    "#아이템별 precision@k와 recall@k의 값을 알려줌\n",
    "def precision_recall(preds_df, item_df, interaction_df, num, user_id):\n",
    "\n",
    "    def intersect(a, b):\n",
    "        return list(set(a) & set(b))\n",
    "    \n",
    "    \n",
    "    #유저 아이디 df\n",
    "    user_id_df = interaction_df[interaction_df[user_id_var]==user_id]\n",
    "    \n",
    "    #유저 아이디가 본 아이텤 df\n",
    "    user_item_df = item_df[item_df[item_id_var].isin(user_id_df[item_id_var].tolist())]\n",
    "    user_item_list = user_item_df[item_id_var].tolist()\n",
    "    \n",
    "    #추천 아이템 추출\n",
    "    sorted_user_predictions = pd.DataFrame(preds_df.loc[user_id, :].sort_values(ascending=False).reset_index())\n",
    "    sorted_user_predictions.columns = [item_id_var, 'Predictions']\n",
    "    \n",
    "    recommend_total_list_df = sorted_user_predictions.head(10)\n",
    "    recommend_total_list = recommend_total_list_df[item_id_var].tolist()\n",
    "    \n",
    "    #순수 추천 아이템 리스트\n",
    "\n",
    "    recommend_df = item_df[~item_df[item_id_var].isin(user_item_df[item_id_var])].merge(sorted_user_predictions, how='inner',on=item_id_var).sort_values('Predictions', ascending=False).head(10)\n",
    "    \n",
    "    \n",
    "    #지표 산정\n",
    "    precision = len(intersect(user_item_list, recommend_total_list))/ len(recommend_total_list)\n",
    "    recall = len(intersect(user_item_list, recommend_total_list)) / len(user_item_list)\n",
    "    \n",
    "    return precision, recall, user_item_df, recommend_df"
   ]
  },
  {
   "cell_type": "code",
   "execution_count": null,
   "id": "cb4f3f6a-992d-457a-9d4a-da6dd6436a3b",
   "metadata": {},
   "outputs": [],
   "source": [
    "import tqdm\n",
    "def perf_metric(interaction_df, item_df, num_recommendations):\n",
    "    \n",
    "    user_item_df = pd.DataFrame()\n",
    "    recommendations_df = pd.DataFrame()\n",
    "    dict_list = []\n",
    "    \n",
    "    for USER_ID in tqdm.tqdm(interaction_df[user_id_var].unique()):\n",
    "    #for USER_ID in tqdm.tqdm(['1','2','3']):\n",
    "#         predictions = [[algo.predict(USER_ID, ITEM_ID).uid, algo.predict(USER_ID, ITEM_ID).iid, algo.predict(USER_ID, ITEM_ID).est] \n",
    "#                         for ITEM_ID in item_df[item_id_var].values]\n",
    "#         preds_df = pd.DataFrame(predictions, columns = [user_id_var, item_id_var, 'predictions'])\n",
    "        \n",
    "        \n",
    "        preds_df = interaction_df[interaction_df[user_id_var]==USER_ID][[user_id_var, item_id_var, 'predictions']]\n",
    "        print(preds_df)                          \n",
    "        #preision_recall\n",
    "        precision, recall, user_item_list, recommended_list = precision_recall(preds_df, interaction_df, item_df, num_recommendations, user_id = USER_ID)\n",
    "        dict_ = {}\n",
    "        dict_.update({\"userID\" : USER_ID})\n",
    "        dict_.update({f\"precision@{num_recommendations}\" : precision})\n",
    "        dict_.update({f\"recall@{num_recommendations}\" : recall})\n",
    "        dict_list.append(dict_)\n",
    "        \n",
    "        #user_item_df 만들기\n",
    "        user_item = item_df[item_df[item_id_var].isin(user_item_list)]\n",
    "        user_item.loc[: , user_id_var] = USER_ID\n",
    "        user_item_df = pd.concat([user_item_df, user_item], axis=0)\n",
    "        print(USER_ID)\n",
    "        print(type(USER_ID))\n",
    "        #recommendations_df 만들기\n",
    "        recommendations = item_df[item_df[item_id_var].isin(recommended_list)]\n",
    "        print(recommendations)\n",
    "        recommendations.loc[:, user_id_var] = USER_ID\n",
    "        recommendations_df = pd.concat([recommendations_df, recommendations], axis =0)\n",
    "    \n",
    "    accuracy_df = pd.DataFrame(dict_list)\n",
    "    \n",
    "    return accuracy_df, user_item_df, recommendations_df"
   ]
  },
  {
   "cell_type": "code",
   "execution_count": null,
   "id": "68c6eefa-8f8b-474a-87f0-3be8fa007c5d",
   "metadata": {},
   "outputs": [],
   "source": [
    "accuracy_df"
   ]
  },
  {
   "cell_type": "code",
   "execution_count": null,
   "id": "41928bbe-49f9-4f53-932f-373484e619af",
   "metadata": {},
   "outputs": [],
   "source": [
    "print('TASK : 사용자별 상품 추천')\n",
    "print('분석 알고리즘 : 상품-사용자 연계 추천')\n",
    "print(f'사용자 변수: {user_id_var} ({interaction_df[user_id_var].nunique()})')\n",
    "print(f'사용자 변수: {item_id_var} ({interaction_df[item_id_var].nunique()})')\n",
    "print(f'모델 훈련 개수 : {len(interaction_df)}개')\n",
    "print(f'모델 검증 개수 : {int(len(interaction_df)*0.1)}개') #본사업에서 따로 구현 X\n",
    "print('검증 기준 : 모든 사용자의 최근 사용(Timestamp) 내역')\n",
    "print('성능 지표 : Precision@K, Recall@K')\n",
    "print(f\"Precision@K : {np.round(np.mean(accuracy_df['precision@10']),3)}\")\n",
    "print(f\"Recall@K    : {np.round(np.mean(accuracy_df['recall@10']),3)}\")"
   ]
  },
  {
   "cell_type": "code",
   "execution_count": 72,
   "id": "b74d3ac8-6039-4663-860d-afed5dcbab2c",
   "metadata": {},
   "outputs": [
    {
     "ename": "ValueError",
     "evalue": "You are trying to merge on int64 and object columns. If you wish to proceed you should use pd.concat",
     "output_type": "error",
     "traceback": [
      "\u001b[1;31m---------------------------------------------------------------------------\u001b[0m",
      "\u001b[1;31mValueError\u001b[0m                                Traceback (most recent call last)",
      "\u001b[1;32m~\\AppData\\Local\\Temp\\ipykernel_14084\\3940591670.py\u001b[0m in \u001b[0;36m<module>\u001b[1;34m\u001b[0m\n\u001b[0;32m     17\u001b[0m     \u001b[1;32mreturn\u001b[0m \u001b[0muser_item\u001b[0m\u001b[1;33m.\u001b[0m\u001b[0mreset_index\u001b[0m\u001b[1;33m(\u001b[0m\u001b[0mdrop\u001b[0m\u001b[1;33m=\u001b[0m\u001b[1;32mTrue\u001b[0m\u001b[1;33m)\u001b[0m\u001b[1;33m,\u001b[0m \u001b[0mrecommendations\u001b[0m\u001b[1;33m.\u001b[0m\u001b[0mreset_index\u001b[0m\u001b[1;33m(\u001b[0m\u001b[0mdrop\u001b[0m\u001b[1;33m=\u001b[0m\u001b[1;32mTrue\u001b[0m\u001b[1;33m)\u001b[0m\u001b[1;33m\u001b[0m\u001b[1;33m\u001b[0m\u001b[0m\n\u001b[0;32m     18\u001b[0m \u001b[1;33m\u001b[0m\u001b[0m\n\u001b[1;32m---> 19\u001b[1;33m \u001b[0muser_item\u001b[0m\u001b[1;33m,\u001b[0m \u001b[0mrecommendations\u001b[0m \u001b[1;33m=\u001b[0m \u001b[0mmake_recommendations\u001b[0m\u001b[1;33m(\u001b[0m\u001b[0mpreds_df\u001b[0m\u001b[1;33m,\u001b[0m \u001b[0minteraction_df\u001b[0m\u001b[1;33m,\u001b[0m \u001b[0mitem_df\u001b[0m\u001b[1;33m,\u001b[0m \u001b[0mUSER_ID\u001b[0m\u001b[1;33m)\u001b[0m\u001b[1;33m\u001b[0m\u001b[1;33m\u001b[0m\u001b[0m\n\u001b[0m",
      "\u001b[1;32m~\\AppData\\Local\\Temp\\ipykernel_14084\\3940591670.py\u001b[0m in \u001b[0;36mmake_recommendations\u001b[1;34m(preds_df, interaction_df, item_df, USER_ID)\u001b[0m\n\u001b[0;32m     12\u001b[0m     \u001b[1;31m#상위 추천 ITEM중 이미 USER_ID가 선정했던 ITEM 제외 후 추천 목록 추출\u001b[0m\u001b[1;33m\u001b[0m\u001b[1;33m\u001b[0m\u001b[1;33m\u001b[0m\u001b[0m\n\u001b[0;32m     13\u001b[0m     \u001b[0mrecommended_items\u001b[0m \u001b[1;33m=\u001b[0m \u001b[0msorted_predictions\u001b[0m\u001b[1;33m.\u001b[0m\u001b[0mindex\u001b[0m\u001b[1;33m.\u001b[0m\u001b[0mtolist\u001b[0m\u001b[1;33m(\u001b[0m\u001b[1;33m)\u001b[0m\u001b[1;33m\u001b[0m\u001b[1;33m\u001b[0m\u001b[0m\n\u001b[1;32m---> 14\u001b[1;33m     \u001b[0mrecommendations\u001b[0m \u001b[1;33m=\u001b[0m \u001b[0mitem_df\u001b[0m\u001b[1;33m[\u001b[0m\u001b[1;33m~\u001b[0m\u001b[0mitem_df\u001b[0m\u001b[1;33m[\u001b[0m\u001b[0mitem_id_var\u001b[0m\u001b[1;33m]\u001b[0m\u001b[1;33m.\u001b[0m\u001b[0misin\u001b[0m\u001b[1;33m(\u001b[0m\u001b[0muser_item\u001b[0m\u001b[1;33m[\u001b[0m\u001b[0mitem_id_var\u001b[0m\u001b[1;33m]\u001b[0m\u001b[1;33m)\u001b[0m\u001b[1;33m]\u001b[0m\u001b[1;33m.\u001b[0m\u001b[0mmerge\u001b[0m\u001b[1;33m(\u001b[0m\u001b[0msorted_predictions\u001b[0m\u001b[1;33m,\u001b[0m \u001b[0mhow\u001b[0m\u001b[1;33m=\u001b[0m\u001b[1;34m'inner'\u001b[0m\u001b[1;33m,\u001b[0m\u001b[0mon\u001b[0m\u001b[1;33m=\u001b[0m\u001b[0mitem_id_var\u001b[0m\u001b[1;33m)\u001b[0m\u001b[1;33m\u001b[0m\u001b[1;33m\u001b[0m\u001b[0m\n\u001b[0m\u001b[0;32m     15\u001b[0m     \u001b[0mrecommendations\u001b[0m \u001b[1;33m=\u001b[0m \u001b[0mrecommendations\u001b[0m\u001b[1;33m.\u001b[0m\u001b[0msort_values\u001b[0m\u001b[1;33m(\u001b[0m\u001b[1;34m'Predictions'\u001b[0m\u001b[1;33m,\u001b[0m \u001b[0mascending\u001b[0m\u001b[1;33m=\u001b[0m\u001b[1;32mFalse\u001b[0m\u001b[1;33m)\u001b[0m\u001b[1;33m.\u001b[0m\u001b[0mhead\u001b[0m\u001b[1;33m(\u001b[0m\u001b[0m_num_recommendations\u001b[0m\u001b[1;33m)\u001b[0m\u001b[1;33m\u001b[0m\u001b[1;33m\u001b[0m\u001b[0m\n\u001b[0;32m     16\u001b[0m \u001b[1;33m\u001b[0m\u001b[0m\n",
      "\u001b[1;32m~\\anaconda3\\envs\\practice\\lib\\site-packages\\pandas\\core\\frame.py\u001b[0m in \u001b[0;36mmerge\u001b[1;34m(self, right, how, on, left_on, right_on, left_index, right_index, sort, suffixes, copy, indicator, validate)\u001b[0m\n\u001b[0;32m   9201\u001b[0m             \u001b[0mcopy\u001b[0m\u001b[1;33m=\u001b[0m\u001b[0mcopy\u001b[0m\u001b[1;33m,\u001b[0m\u001b[1;33m\u001b[0m\u001b[1;33m\u001b[0m\u001b[0m\n\u001b[0;32m   9202\u001b[0m             \u001b[0mindicator\u001b[0m\u001b[1;33m=\u001b[0m\u001b[0mindicator\u001b[0m\u001b[1;33m,\u001b[0m\u001b[1;33m\u001b[0m\u001b[1;33m\u001b[0m\u001b[0m\n\u001b[1;32m-> 9203\u001b[1;33m             \u001b[0mvalidate\u001b[0m\u001b[1;33m=\u001b[0m\u001b[0mvalidate\u001b[0m\u001b[1;33m,\u001b[0m\u001b[1;33m\u001b[0m\u001b[1;33m\u001b[0m\u001b[0m\n\u001b[0m\u001b[0;32m   9204\u001b[0m         )\n\u001b[0;32m   9205\u001b[0m \u001b[1;33m\u001b[0m\u001b[0m\n",
      "\u001b[1;32m~\\anaconda3\\envs\\practice\\lib\\site-packages\\pandas\\core\\reshape\\merge.py\u001b[0m in \u001b[0;36mmerge\u001b[1;34m(left, right, how, on, left_on, right_on, left_index, right_index, sort, suffixes, copy, indicator, validate)\u001b[0m\n\u001b[0;32m    117\u001b[0m         \u001b[0mcopy\u001b[0m\u001b[1;33m=\u001b[0m\u001b[0mcopy\u001b[0m\u001b[1;33m,\u001b[0m\u001b[1;33m\u001b[0m\u001b[1;33m\u001b[0m\u001b[0m\n\u001b[0;32m    118\u001b[0m         \u001b[0mindicator\u001b[0m\u001b[1;33m=\u001b[0m\u001b[0mindicator\u001b[0m\u001b[1;33m,\u001b[0m\u001b[1;33m\u001b[0m\u001b[1;33m\u001b[0m\u001b[0m\n\u001b[1;32m--> 119\u001b[1;33m         \u001b[0mvalidate\u001b[0m\u001b[1;33m=\u001b[0m\u001b[0mvalidate\u001b[0m\u001b[1;33m,\u001b[0m\u001b[1;33m\u001b[0m\u001b[1;33m\u001b[0m\u001b[0m\n\u001b[0m\u001b[0;32m    120\u001b[0m     )\n\u001b[0;32m    121\u001b[0m     \u001b[1;32mreturn\u001b[0m \u001b[0mop\u001b[0m\u001b[1;33m.\u001b[0m\u001b[0mget_result\u001b[0m\u001b[1;33m(\u001b[0m\u001b[1;33m)\u001b[0m\u001b[1;33m\u001b[0m\u001b[1;33m\u001b[0m\u001b[0m\n",
      "\u001b[1;32m~\\anaconda3\\envs\\practice\\lib\\site-packages\\pandas\\core\\reshape\\merge.py\u001b[0m in \u001b[0;36m__init__\u001b[1;34m(self, left, right, how, on, left_on, right_on, axis, left_index, right_index, sort, suffixes, copy, indicator, validate)\u001b[0m\n\u001b[0;32m    701\u001b[0m         \u001b[1;31m# validate the merge keys dtypes. We may need to coerce\u001b[0m\u001b[1;33m\u001b[0m\u001b[1;33m\u001b[0m\u001b[1;33m\u001b[0m\u001b[0m\n\u001b[0;32m    702\u001b[0m         \u001b[1;31m# to avoid incompatible dtypes\u001b[0m\u001b[1;33m\u001b[0m\u001b[1;33m\u001b[0m\u001b[1;33m\u001b[0m\u001b[0m\n\u001b[1;32m--> 703\u001b[1;33m         \u001b[0mself\u001b[0m\u001b[1;33m.\u001b[0m\u001b[0m_maybe_coerce_merge_keys\u001b[0m\u001b[1;33m(\u001b[0m\u001b[1;33m)\u001b[0m\u001b[1;33m\u001b[0m\u001b[1;33m\u001b[0m\u001b[0m\n\u001b[0m\u001b[0;32m    704\u001b[0m \u001b[1;33m\u001b[0m\u001b[0m\n\u001b[0;32m    705\u001b[0m         \u001b[1;31m# If argument passed to validate,\u001b[0m\u001b[1;33m\u001b[0m\u001b[1;33m\u001b[0m\u001b[1;33m\u001b[0m\u001b[0m\n",
      "\u001b[1;32m~\\anaconda3\\envs\\practice\\lib\\site-packages\\pandas\\core\\reshape\\merge.py\u001b[0m in \u001b[0;36m_maybe_coerce_merge_keys\u001b[1;34m(self)\u001b[0m\n\u001b[0;32m   1254\u001b[0m                     \u001b[0minferred_right\u001b[0m \u001b[1;32min\u001b[0m \u001b[0mstring_types\u001b[0m \u001b[1;32mand\u001b[0m \u001b[0minferred_left\u001b[0m \u001b[1;32mnot\u001b[0m \u001b[1;32min\u001b[0m \u001b[0mstring_types\u001b[0m\u001b[1;33m\u001b[0m\u001b[1;33m\u001b[0m\u001b[0m\n\u001b[0;32m   1255\u001b[0m                 ):\n\u001b[1;32m-> 1256\u001b[1;33m                     \u001b[1;32mraise\u001b[0m \u001b[0mValueError\u001b[0m\u001b[1;33m(\u001b[0m\u001b[0mmsg\u001b[0m\u001b[1;33m)\u001b[0m\u001b[1;33m\u001b[0m\u001b[1;33m\u001b[0m\u001b[0m\n\u001b[0m\u001b[0;32m   1257\u001b[0m \u001b[1;33m\u001b[0m\u001b[0m\n\u001b[0;32m   1258\u001b[0m             \u001b[1;31m# datetimelikes must match exactly\u001b[0m\u001b[1;33m\u001b[0m\u001b[1;33m\u001b[0m\u001b[1;33m\u001b[0m\u001b[0m\n",
      "\u001b[1;31mValueError\u001b[0m: You are trying to merge on int64 and object columns. If you wish to proceed you should use pd.concat"
     ]
    }
   ],
   "source": [
    "USER_ID = 1\n",
    "def make_recommendations(preds_df, interaction_df, item_df, USER_ID):\n",
    "    #USER_ID 별 상위 ITEM 추천 목록 생성\n",
    "    sorted_predictions = preds_df.sort_values('predictions', ascending=False)\n",
    "    sorted_predictions = pd.DataFrame(sorted_predictions.reset_index())\n",
    "    sorted_predictions.columns = ['ITEM_ID', 'Predictions']\n",
    "\n",
    "    #이미 USER_ID가 선정했던 ITEM 확인\n",
    "    user_data = interaction_df[interaction_df[user_id_var]==USER_ID]\n",
    "    user_item = item_df[item_df[item_id_var].isin(user_data[item_id_var].tolist())]\n",
    "    #print('User {0} has already viewed or buyed {1} items'.format(USER_ID, user_item.shape[0]))\n",
    "\n",
    "    #상위 추천 ITEM중 이미 USER_ID가 선정했던 ITEM 제외 후 추천 목록 추출\n",
    "    recommended_items = sorted_predictions.index.tolist()\n",
    "    recommendations = item_df[~item_df[item_id_var].isin(user_item[item_id_var])].merge(sorted_predictions, how='inner',on=item_id_var)\n",
    "    recommendations = recommendations.sort_values('Predictions', ascending=False).head(_num_recommendations)\n",
    "\n",
    "    return user_item.reset_index(drop=True), recommendations.reset_index(drop=True)\n",
    "\n",
    "user_item, recommendations = make_recommendations(preds_df, interaction_df, item_df, USER_ID)"
   ]
  },
  {
   "cell_type": "code",
   "execution_count": null,
   "id": "ccf26581-4ccc-470d-9312-81c9f4f2cb3d",
   "metadata": {},
   "outputs": [],
   "source": []
  }
 ],
 "metadata": {
  "kernelspec": {
   "display_name": "Python 3 (ipykernel)",
   "language": "python",
   "name": "python3"
  },
  "language_info": {
   "codemirror_mode": {
    "name": "ipython",
    "version": 3
   },
   "file_extension": ".py",
   "mimetype": "text/x-python",
   "name": "python",
   "nbconvert_exporter": "python",
   "pygments_lexer": "ipython3",
   "version": "3.7.11"
  }
 },
 "nbformat": 4,
 "nbformat_minor": 5
}
