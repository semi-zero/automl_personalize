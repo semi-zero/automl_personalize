{
 "cells": [
  {
   "cell_type": "markdown",
   "id": "4d7bc5d1",
   "metadata": {},
   "source": [
    "# **EDA**"
   ]
  },
  {
   "cell_type": "code",
   "execution_count": 1,
   "id": "43fe488e",
   "metadata": {},
   "outputs": [],
   "source": [
    "# import tarfile\n",
    "# tf = tarfile.open('RetailDemoDataSet.tar')\n",
    "# tf.extractall(\"data\")"
   ]
  },
  {
   "cell_type": "code",
   "execution_count": 1,
   "id": "b073ee08",
   "metadata": {},
   "outputs": [],
   "source": [
    "import pandas as pd\n",
    "import json\n",
    "import numpy as np\n",
    "import time\n",
    "from datetime import datetime\n",
    "import matplotlib.pyplot as plt"
   ]
  },
  {
   "cell_type": "code",
   "execution_count": 19,
   "id": "5c204458",
   "metadata": {},
   "outputs": [
    {
     "name": "stdout",
     "output_type": "stream",
     "text": [
      "(58098, 3)\n"
     ]
    },
    {
     "data": {
      "text/html": [
       "<div>\n",
       "<style scoped>\n",
       "    .dataframe tbody tr th:only-of-type {\n",
       "        vertical-align: middle;\n",
       "    }\n",
       "\n",
       "    .dataframe tbody tr th {\n",
       "        vertical-align: top;\n",
       "    }\n",
       "\n",
       "    .dataframe thead th {\n",
       "        text-align: right;\n",
       "    }\n",
       "</style>\n",
       "<table border=\"1\" class=\"dataframe\">\n",
       "  <thead>\n",
       "    <tr style=\"text-align: right;\">\n",
       "      <th></th>\n",
       "      <th>ITEM_ID</th>\n",
       "      <th>ITEM_NAME</th>\n",
       "      <th>CATEGORY_L1</th>\n",
       "    </tr>\n",
       "  </thead>\n",
       "  <tbody>\n",
       "    <tr>\n",
       "      <th>0</th>\n",
       "      <td>1</td>\n",
       "      <td>Toy Story (1995)</td>\n",
       "      <td>Adventure|Animation|Children|Comedy|Fantasy</td>\n",
       "    </tr>\n",
       "    <tr>\n",
       "      <th>1</th>\n",
       "      <td>2</td>\n",
       "      <td>Jumanji (1995)</td>\n",
       "      <td>Adventure|Children|Fantasy</td>\n",
       "    </tr>\n",
       "    <tr>\n",
       "      <th>2</th>\n",
       "      <td>3</td>\n",
       "      <td>Grumpier Old Men (1995)</td>\n",
       "      <td>Comedy|Romance</td>\n",
       "    </tr>\n",
       "    <tr>\n",
       "      <th>3</th>\n",
       "      <td>4</td>\n",
       "      <td>Waiting to Exhale (1995)</td>\n",
       "      <td>Comedy|Drama|Romance</td>\n",
       "    </tr>\n",
       "    <tr>\n",
       "      <th>4</th>\n",
       "      <td>5</td>\n",
       "      <td>Father of the Bride Part II (1995)</td>\n",
       "      <td>Comedy</td>\n",
       "    </tr>\n",
       "  </tbody>\n",
       "</table>\n",
       "</div>"
      ],
      "text/plain": [
       "   ITEM_ID                           ITEM_NAME  \\\n",
       "0        1                    Toy Story (1995)   \n",
       "1        2                      Jumanji (1995)   \n",
       "2        3             Grumpier Old Men (1995)   \n",
       "3        4            Waiting to Exhale (1995)   \n",
       "4        5  Father of the Bride Part II (1995)   \n",
       "\n",
       "                                   CATEGORY_L1  \n",
       "0  Adventure|Animation|Children|Comedy|Fantasy  \n",
       "1                   Adventure|Children|Fantasy  \n",
       "2                               Comedy|Romance  \n",
       "3                         Comedy|Drama|Romance  \n",
       "4                                       Comedy  "
      ]
     },
     "execution_count": 19,
     "metadata": {},
     "output_type": "execute_result"
    }
   ],
   "source": [
    "items = pd.read_csv('movies.csv')\n",
    "items_df = items.rename(columns={'movieId':'ITEM_ID',\n",
    "                              'title' : 'ITEM_NAME',\n",
    "                              'genres' :'CATEGORY_L1',\n",
    "                             })\n",
    "print(items_df.shape)\n",
    "items_df.head()"
   ]
  },
  {
   "cell_type": "code",
   "execution_count": 12,
   "id": "c29e634c",
   "metadata": {},
   "outputs": [],
   "source": [
    "# users = pd.read_csv('users.csv')\n",
    "# user_cols = ['id', 'username', 'age', 'gender']\n",
    "# users_df = users[user_cols]\n",
    "# users_df = users_df.rename(columns={'id':'USER_ID',\n",
    "#                               'username' : 'USER_NAME',\n",
    "#                               'age' :'AGE',\n",
    "#                               'gender' : 'GENDER',                              \n",
    "#                              })\n",
    "\n",
    "# users_df['USER_ID'] = users_df['USER_ID'].astype('object')\n",
    "# print(users_df.shape)\n",
    "# print(users_df.dtypes)\n",
    "# users_df.head()"
   ]
  },
  {
   "cell_type": "code",
   "execution_count": 20,
   "id": "dcca9984-e5e4-41a1-b81d-39fea5409a21",
   "metadata": {},
   "outputs": [
    {
     "name": "stdout",
     "output_type": "stream",
     "text": [
      "(994882, 4)\n"
     ]
    },
    {
     "data": {
      "text/html": [
       "<div>\n",
       "<style scoped>\n",
       "    .dataframe tbody tr th:only-of-type {\n",
       "        vertical-align: middle;\n",
       "    }\n",
       "\n",
       "    .dataframe tbody tr th {\n",
       "        vertical-align: top;\n",
       "    }\n",
       "\n",
       "    .dataframe thead th {\n",
       "        text-align: right;\n",
       "    }\n",
       "</style>\n",
       "<table border=\"1\" class=\"dataframe\">\n",
       "  <thead>\n",
       "    <tr style=\"text-align: right;\">\n",
       "      <th></th>\n",
       "      <th>USER_ID</th>\n",
       "      <th>ITEM_ID</th>\n",
       "      <th>EVENT_TYPE</th>\n",
       "      <th>TIMESTAMP</th>\n",
       "    </tr>\n",
       "  </thead>\n",
       "  <tbody>\n",
       "    <tr>\n",
       "      <th>0</th>\n",
       "      <td>1</td>\n",
       "      <td>307</td>\n",
       "      <td>3.5</td>\n",
       "      <td>1256677221</td>\n",
       "    </tr>\n",
       "    <tr>\n",
       "      <th>1</th>\n",
       "      <td>1</td>\n",
       "      <td>481</td>\n",
       "      <td>3.5</td>\n",
       "      <td>1256677456</td>\n",
       "    </tr>\n",
       "    <tr>\n",
       "      <th>2</th>\n",
       "      <td>1</td>\n",
       "      <td>1091</td>\n",
       "      <td>1.5</td>\n",
       "      <td>1256677471</td>\n",
       "    </tr>\n",
       "    <tr>\n",
       "      <th>3</th>\n",
       "      <td>1</td>\n",
       "      <td>1257</td>\n",
       "      <td>4.5</td>\n",
       "      <td>1256677460</td>\n",
       "    </tr>\n",
       "    <tr>\n",
       "      <th>4</th>\n",
       "      <td>1</td>\n",
       "      <td>1449</td>\n",
       "      <td>4.5</td>\n",
       "      <td>1256677264</td>\n",
       "    </tr>\n",
       "  </tbody>\n",
       "</table>\n",
       "</div>"
      ],
      "text/plain": [
       "  USER_ID  ITEM_ID  EVENT_TYPE   TIMESTAMP\n",
       "0       1      307         3.5  1256677221\n",
       "1       1      481         3.5  1256677456\n",
       "2       1     1091         1.5  1256677471\n",
       "3       1     1257         4.5  1256677460\n",
       "4       1     1449         4.5  1256677264"
      ]
     },
     "execution_count": 20,
     "metadata": {},
     "output_type": "execute_result"
    }
   ],
   "source": [
    "its = pd.read_csv('ratings.csv')\n",
    "its_df = its.rename(columns={'userId': 'USER_ID',\n",
    "                            'movieId':'ITEM_ID',\n",
    "                              'rating' : 'EVENT_TYPE',\n",
    "                              'timestamp' :'TIMESTAMP',\n",
    "                             })\n",
    "its_df['USER_ID'] = its_df['USER_ID'].astype('object')\n",
    "print(its_df.shape)\n",
    "its_df.head()"
   ]
  },
  {
   "cell_type": "code",
   "execution_count": 21,
   "id": "7d35d330",
   "metadata": {},
   "outputs": [],
   "source": [
    "#merge1 = pd.merge(its_df, users_df, on='USER_ID', how='left')\n",
    "df = pd.merge(its_df, items_df, on='ITEM_ID', how='left')\n",
    "df['TIMESTAMP'] = pd.to_datetime(df['TIMESTAMP'], unit='s')"
   ]
  },
  {
   "cell_type": "code",
   "execution_count": 22,
   "id": "a1cb9a9c",
   "metadata": {},
   "outputs": [
    {
     "name": "stdout",
     "output_type": "stream",
     "text": [
      "(994882, 6)\n"
     ]
    },
    {
     "data": {
      "text/html": [
       "<div>\n",
       "<style scoped>\n",
       "    .dataframe tbody tr th:only-of-type {\n",
       "        vertical-align: middle;\n",
       "    }\n",
       "\n",
       "    .dataframe tbody tr th {\n",
       "        vertical-align: top;\n",
       "    }\n",
       "\n",
       "    .dataframe thead th {\n",
       "        text-align: right;\n",
       "    }\n",
       "</style>\n",
       "<table border=\"1\" class=\"dataframe\">\n",
       "  <thead>\n",
       "    <tr style=\"text-align: right;\">\n",
       "      <th></th>\n",
       "      <th>USER_ID</th>\n",
       "      <th>ITEM_ID</th>\n",
       "      <th>EVENT_TYPE</th>\n",
       "      <th>TIMESTAMP</th>\n",
       "      <th>ITEM_NAME</th>\n",
       "      <th>CATEGORY_L1</th>\n",
       "    </tr>\n",
       "  </thead>\n",
       "  <tbody>\n",
       "    <tr>\n",
       "      <th>0</th>\n",
       "      <td>1</td>\n",
       "      <td>307</td>\n",
       "      <td>3.5</td>\n",
       "      <td>2009-10-27 21:00:21</td>\n",
       "      <td>Three Colors: Blue (Trois couleurs: Bleu) (1993)</td>\n",
       "      <td>Drama</td>\n",
       "    </tr>\n",
       "    <tr>\n",
       "      <th>1</th>\n",
       "      <td>1</td>\n",
       "      <td>481</td>\n",
       "      <td>3.5</td>\n",
       "      <td>2009-10-27 21:04:16</td>\n",
       "      <td>Kalifornia (1993)</td>\n",
       "      <td>Drama|Thriller</td>\n",
       "    </tr>\n",
       "    <tr>\n",
       "      <th>2</th>\n",
       "      <td>1</td>\n",
       "      <td>1091</td>\n",
       "      <td>1.5</td>\n",
       "      <td>2009-10-27 21:04:31</td>\n",
       "      <td>Weekend at Bernie's (1989)</td>\n",
       "      <td>Comedy</td>\n",
       "    </tr>\n",
       "    <tr>\n",
       "      <th>3</th>\n",
       "      <td>1</td>\n",
       "      <td>1257</td>\n",
       "      <td>4.5</td>\n",
       "      <td>2009-10-27 21:04:20</td>\n",
       "      <td>Better Off Dead... (1985)</td>\n",
       "      <td>Comedy|Romance</td>\n",
       "    </tr>\n",
       "    <tr>\n",
       "      <th>4</th>\n",
       "      <td>1</td>\n",
       "      <td>1449</td>\n",
       "      <td>4.5</td>\n",
       "      <td>2009-10-27 21:01:04</td>\n",
       "      <td>Waiting for Guffman (1996)</td>\n",
       "      <td>Comedy</td>\n",
       "    </tr>\n",
       "  </tbody>\n",
       "</table>\n",
       "</div>"
      ],
      "text/plain": [
       "  USER_ID  ITEM_ID  EVENT_TYPE           TIMESTAMP  \\\n",
       "0       1      307         3.5 2009-10-27 21:00:21   \n",
       "1       1      481         3.5 2009-10-27 21:04:16   \n",
       "2       1     1091         1.5 2009-10-27 21:04:31   \n",
       "3       1     1257         4.5 2009-10-27 21:04:20   \n",
       "4       1     1449         4.5 2009-10-27 21:01:04   \n",
       "\n",
       "                                          ITEM_NAME     CATEGORY_L1  \n",
       "0  Three Colors: Blue (Trois couleurs: Bleu) (1993)           Drama  \n",
       "1                                 Kalifornia (1993)  Drama|Thriller  \n",
       "2                        Weekend at Bernie's (1989)          Comedy  \n",
       "3                         Better Off Dead... (1985)  Comedy|Romance  \n",
       "4                        Waiting for Guffman (1996)          Comedy  "
      ]
     },
     "execution_count": 22,
     "metadata": {},
     "output_type": "execute_result"
    }
   ],
   "source": [
    "print(df.shape)\n",
    "df.head()"
   ]
  },
  {
   "cell_type": "code",
   "execution_count": 23,
   "id": "9fec9050",
   "metadata": {},
   "outputs": [],
   "source": [
    "df.to_csv('interaction_data.csv', index=False)"
   ]
  },
  {
   "cell_type": "code",
   "execution_count": 24,
   "id": "d17ec7a6",
   "metadata": {},
   "outputs": [],
   "source": [
    "pd.options.display.max_rows = 5\n",
    "def split_holdout(data, pct):\n",
    "    df = data.copy()\n",
    "    # Rank per each subgroup, 'USER_ID'\n",
    "    ranks = df.groupby('USER_ID').TIMESTAMP.rank(pct=True, method='first')\n",
    "    df = df.join((ranks> pct).to_frame('holdout'))\n",
    "    \n",
    "    holdout = df[df['holdout']].drop('holdout', axis=1)\n",
    "    train = df[~df['holdout']].drop('holdout', axis=1)    \n",
    "    \n",
    "    return train, holdout\n",
    "\n",
    "df_warm_train, df_warm_holdout = split_holdout(df, pct=0.9)"
   ]
  },
  {
   "cell_type": "code",
   "execution_count": 25,
   "id": "304981e3",
   "metadata": {},
   "outputs": [
    {
     "name": "stdout",
     "output_type": "stream",
     "text": [
      "(890817, 6)\n",
      "(104065, 6)\n"
     ]
    }
   ],
   "source": [
    "print(df_warm_train.shape)\n",
    "print(df_warm_holdout.shape)"
   ]
  },
  {
   "cell_type": "code",
   "execution_count": 26,
   "id": "96a67876",
   "metadata": {},
   "outputs": [
    {
     "data": {
      "text/plain": [
       "(994882, 6)"
      ]
     },
     "execution_count": 26,
     "metadata": {},
     "output_type": "execute_result"
    }
   ],
   "source": [
    "df.shape"
   ]
  },
  {
   "cell_type": "code",
   "execution_count": 27,
   "id": "853e7300",
   "metadata": {},
   "outputs": [
    {
     "data": {
      "text/html": [
       "<div>\n",
       "<style scoped>\n",
       "    .dataframe tbody tr th:only-of-type {\n",
       "        vertical-align: middle;\n",
       "    }\n",
       "\n",
       "    .dataframe tbody tr th {\n",
       "        vertical-align: top;\n",
       "    }\n",
       "\n",
       "    .dataframe thead th {\n",
       "        text-align: right;\n",
       "    }\n",
       "</style>\n",
       "<table border=\"1\" class=\"dataframe\">\n",
       "  <thead>\n",
       "    <tr style=\"text-align: right;\">\n",
       "      <th></th>\n",
       "      <th>USER_ID</th>\n",
       "      <th>ITEM_ID</th>\n",
       "      <th>EVENT_TYPE</th>\n",
       "      <th>TIMESTAMP</th>\n",
       "      <th>ITEM_NAME</th>\n",
       "      <th>CATEGORY_L1</th>\n",
       "    </tr>\n",
       "  </thead>\n",
       "  <tbody>\n",
       "    <tr>\n",
       "      <th>0</th>\n",
       "      <td>1</td>\n",
       "      <td>307</td>\n",
       "      <td>3.5</td>\n",
       "      <td>2009-10-27 21:00:21</td>\n",
       "      <td>Three Colors: Blue (Trois couleurs: Bleu) (1993)</td>\n",
       "      <td>Drama</td>\n",
       "    </tr>\n",
       "    <tr>\n",
       "      <th>1</th>\n",
       "      <td>1</td>\n",
       "      <td>481</td>\n",
       "      <td>3.5</td>\n",
       "      <td>2009-10-27 21:04:16</td>\n",
       "      <td>Kalifornia (1993)</td>\n",
       "      <td>Drama|Thriller</td>\n",
       "    </tr>\n",
       "    <tr>\n",
       "      <th>...</th>\n",
       "      <td>...</td>\n",
       "      <td>...</td>\n",
       "      <td>...</td>\n",
       "      <td>...</td>\n",
       "      <td>...</td>\n",
       "      <td>...</td>\n",
       "    </tr>\n",
       "    <tr>\n",
       "      <th>994856</th>\n",
       "      <td>10000</td>\n",
       "      <td>175485</td>\n",
       "      <td>2.5</td>\n",
       "      <td>2017-09-05 19:15:05</td>\n",
       "      <td>Death Note (2017)</td>\n",
       "      <td>Horror|Thriller</td>\n",
       "    </tr>\n",
       "    <tr>\n",
       "      <th>994867</th>\n",
       "      <td>10000</td>\n",
       "      <td>178667</td>\n",
       "      <td>3.0</td>\n",
       "      <td>2017-10-06 00:00:45</td>\n",
       "      <td>Gerald's Game (2017)</td>\n",
       "      <td>Horror|Thriller</td>\n",
       "    </tr>\n",
       "  </tbody>\n",
       "</table>\n",
       "<p>890817 rows × 6 columns</p>\n",
       "</div>"
      ],
      "text/plain": [
       "       USER_ID  ITEM_ID  EVENT_TYPE           TIMESTAMP  \\\n",
       "0            1      307         3.5 2009-10-27 21:00:21   \n",
       "1            1      481         3.5 2009-10-27 21:04:16   \n",
       "...        ...      ...         ...                 ...   \n",
       "994856   10000   175485         2.5 2017-09-05 19:15:05   \n",
       "994867   10000   178667         3.0 2017-10-06 00:00:45   \n",
       "\n",
       "                                               ITEM_NAME      CATEGORY_L1  \n",
       "0       Three Colors: Blue (Trois couleurs: Bleu) (1993)            Drama  \n",
       "1                                      Kalifornia (1993)   Drama|Thriller  \n",
       "...                                                  ...              ...  \n",
       "994856                                 Death Note (2017)  Horror|Thriller  \n",
       "994867                              Gerald's Game (2017)  Horror|Thriller  \n",
       "\n",
       "[890817 rows x 6 columns]"
      ]
     },
     "execution_count": 27,
     "metadata": {},
     "output_type": "execute_result"
    }
   ],
   "source": [
    "df_warm_train"
   ]
  },
  {
   "cell_type": "code",
   "execution_count": 28,
   "id": "dd6c30d9",
   "metadata": {},
   "outputs": [
    {
     "data": {
      "text/html": [
       "<div>\n",
       "<style scoped>\n",
       "    .dataframe tbody tr th:only-of-type {\n",
       "        vertical-align: middle;\n",
       "    }\n",
       "\n",
       "    .dataframe tbody tr th {\n",
       "        vertical-align: top;\n",
       "    }\n",
       "\n",
       "    .dataframe thead th {\n",
       "        text-align: right;\n",
       "    }\n",
       "</style>\n",
       "<table border=\"1\" class=\"dataframe\">\n",
       "  <thead>\n",
       "    <tr style=\"text-align: right;\">\n",
       "      <th></th>\n",
       "      <th>USER_ID</th>\n",
       "      <th>ITEM_ID</th>\n",
       "      <th>EVENT_TYPE</th>\n",
       "      <th>TIMESTAMP</th>\n",
       "      <th>ITEM_NAME</th>\n",
       "      <th>CATEGORY_L1</th>\n",
       "    </tr>\n",
       "  </thead>\n",
       "  <tbody>\n",
       "    <tr>\n",
       "      <th>9</th>\n",
       "      <td>1</td>\n",
       "      <td>2840</td>\n",
       "      <td>3.0</td>\n",
       "      <td>2009-10-27 21:05:00</td>\n",
       "      <td>Stigmata (1999)</td>\n",
       "      <td>Drama|Thriller</td>\n",
       "    </tr>\n",
       "    <tr>\n",
       "      <th>10</th>\n",
       "      <td>1</td>\n",
       "      <td>2986</td>\n",
       "      <td>2.5</td>\n",
       "      <td>2009-10-27 21:04:56</td>\n",
       "      <td>RoboCop 2 (1990)</td>\n",
       "      <td>Action|Crime|Sci-Fi|Thriller</td>\n",
       "    </tr>\n",
       "    <tr>\n",
       "      <th>...</th>\n",
       "      <td>...</td>\n",
       "      <td>...</td>\n",
       "      <td>...</td>\n",
       "      <td>...</td>\n",
       "      <td>...</td>\n",
       "      <td>...</td>\n",
       "    </tr>\n",
       "    <tr>\n",
       "      <th>994880</th>\n",
       "      <td>10000</td>\n",
       "      <td>185029</td>\n",
       "      <td>2.5</td>\n",
       "      <td>2018-08-10 17:34:01</td>\n",
       "      <td>A Quiet Place (2018)</td>\n",
       "      <td>Drama|Horror|Thriller</td>\n",
       "    </tr>\n",
       "    <tr>\n",
       "      <th>994881</th>\n",
       "      <td>10000</td>\n",
       "      <td>185989</td>\n",
       "      <td>2.5</td>\n",
       "      <td>2018-07-10 09:57:10</td>\n",
       "      <td>Truth or Dare (2018)</td>\n",
       "      <td>Horror|Thriller</td>\n",
       "    </tr>\n",
       "  </tbody>\n",
       "</table>\n",
       "<p>104065 rows × 6 columns</p>\n",
       "</div>"
      ],
      "text/plain": [
       "       USER_ID  ITEM_ID  EVENT_TYPE           TIMESTAMP             ITEM_NAME  \\\n",
       "9            1     2840         3.0 2009-10-27 21:05:00       Stigmata (1999)   \n",
       "10           1     2986         2.5 2009-10-27 21:04:56      RoboCop 2 (1990)   \n",
       "...        ...      ...         ...                 ...                   ...   \n",
       "994880   10000   185029         2.5 2018-08-10 17:34:01  A Quiet Place (2018)   \n",
       "994881   10000   185989         2.5 2018-07-10 09:57:10  Truth or Dare (2018)   \n",
       "\n",
       "                         CATEGORY_L1  \n",
       "9                     Drama|Thriller  \n",
       "10      Action|Crime|Sci-Fi|Thriller  \n",
       "...                              ...  \n",
       "994880         Drama|Horror|Thriller  \n",
       "994881               Horror|Thriller  \n",
       "\n",
       "[104065 rows x 6 columns]"
      ]
     },
     "execution_count": 28,
     "metadata": {},
     "output_type": "execute_result"
    }
   ],
   "source": [
    "df_warm_holdout"
   ]
  },
  {
   "cell_type": "code",
   "execution_count": null,
   "id": "8837e189",
   "metadata": {},
   "outputs": [],
   "source": []
  }
 ],
 "metadata": {
  "kernelspec": {
   "display_name": "practice",
   "language": "python",
   "name": "practice"
  },
  "language_info": {
   "codemirror_mode": {
    "name": "ipython",
    "version": 3
   },
   "file_extension": ".py",
   "mimetype": "text/x-python",
   "name": "python",
   "nbconvert_exporter": "python",
   "pygments_lexer": "ipython3",
   "version": "3.7.11"
  }
 },
 "nbformat": 4,
 "nbformat_minor": 5
}
