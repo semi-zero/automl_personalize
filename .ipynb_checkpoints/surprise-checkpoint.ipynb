{
 "cells": [
  {
   "cell_type": "code",
   "execution_count": 1,
   "id": "7db24dec-fa8e-4144-ad46-a4dfd5a7dc60",
   "metadata": {},
   "outputs": [],
   "source": [
    "import numpy as np\n",
    "import pandas as pd\n",
    "import os\n",
    "import tqdm\n",
    "from sklearn.metrics import mean_squared_error\n",
    "from sklearn.metrics.pairwise import pairwise_distances, cosine_similarity\n",
    "\n",
    "#surprise\n",
    "from surprise import SVD, accuracy, SVDpp, KNNWithMeans, BaselineOnly\n",
    "from surprise import Dataset, Reader\n",
    "from surprise.model_selection import train_test_split, cross_validate, GridSearchCV"
   ]
  },
  {
   "cell_type": "code",
   "execution_count": 2,
   "id": "ce2ef9e8-02e5-4df2-ac53-87b6ef35f785",
   "metadata": {},
   "outputs": [],
   "source": [
    "import warnings\n",
    "warnings.filterwarnings(action='ignore')"
   ]
  },
  {
   "cell_type": "code",
   "execution_count": 3,
   "id": "dad4d86c-56a6-4af8-8d9a-f2ca0e09ec45",
   "metadata": {},
   "outputs": [],
   "source": [
    "#파라미터 설정\n",
    "data_path = 'storage/shop_data/interaction_data.csv'\n",
    "_num_recommendations=10\n",
    "item_id_var = 'ITEM_ID'\n",
    "user_id_var = 'USER_ID'\n",
    "event = 'EVENT_TYPE'\n",
    "timestamp = 'TIMESTAMP'\n",
    "user_var = ['USER_NAME','AGE','GENDER']\n",
    "item_var = ['ITEM_NAME','CATEGORY_L1','STYLE','ITEM_DESCRIPTION','PRICE']"
   ]
  },
  {
   "cell_type": "code",
   "execution_count": 4,
   "id": "43c05046-0662-46f4-b478-2745ce1be4d0",
   "metadata": {},
   "outputs": [],
   "source": [
    "# data_path = 'storage/movie_data/interaction_data.csv'\n",
    "# _num_recommendations=10\n",
    "# item_id_var = 'ITEM_ID'\n",
    "# user_id_var = 'USER_ID'\n",
    "# event = 'EVENT_TYPE'\n",
    "# timestamp = 'TIMESTAMP'\n",
    "# user_var = []\n",
    "# item_var = ['ITEM_NAME', 'CATEGORY_L1']"
   ]
  },
  {
   "cell_type": "code",
   "execution_count": 4,
   "id": "1f685189-8a7e-4558-b5cf-218334b80ea7",
   "metadata": {},
   "outputs": [],
   "source": [
    "data = pd.read_csv(data_path)\n",
    "data[item_id_var] = data[item_id_var].astype(str)\n",
    "data[user_id_var] = data[user_id_var].astype(str)\n",
    "\n",
    "#user 데이터셋 생성\n",
    "user_df = data[[user_id_var]+user_var].drop_duplicates(user_id_var).reset_index(drop=True)\n",
    "\n",
    "#item 데이터셋 생성\n",
    "item_df = data[[item_id_var]+item_var].drop_duplicates(item_id_var).reset_index(drop=True)\n",
    "\n",
    "#interaction 데이터셋 생성\n",
    "interaction_df=data[[item_id_var, user_id_var, event, timestamp]]\n",
    "if data[event].dtypes != float:\n",
    "    interaction_df.loc[:, event] = 5\n",
    "\n",
    "rating_min = 0.5\n",
    "rating_max = np.max(interaction_df[event].values)"
   ]
  },
  {
   "cell_type": "code",
   "execution_count": 6,
   "id": "d97b9ad0-2285-4f24-8711-f382c14d0ce3",
   "metadata": {},
   "outputs": [
    {
     "data": {
      "text/plain": [
       "5"
      ]
     },
     "execution_count": 6,
     "metadata": {},
     "output_type": "execute_result"
    }
   ],
   "source": [
    "rating_max"
   ]
  },
  {
   "cell_type": "code",
   "execution_count": 7,
   "id": "a094ec79-a38f-4ac8-a37b-5965cf87fc7f",
   "metadata": {},
   "outputs": [],
   "source": [
    "reader = Reader(rating_scale = (0, rating_max))\n",
    "df = Dataset.load_from_df(interaction_df[[user_id_var, item_id_var, event]], \n",
    "                          reader = reader)\n",
    "train, test = train_test_split(df, test_size = 0.2, random_state=42)"
   ]
  },
  {
   "cell_type": "code",
   "execution_count": 8,
   "id": "6a8316d6-766c-4d17-bddb-25fa8a53aa51",
   "metadata": {
    "collapsed": true,
    "jupyter": {
     "outputs_hidden": true
    },
    "tags": []
   },
   "outputs": [
    {
     "ename": "KeyboardInterrupt",
     "evalue": "",
     "output_type": "error",
     "traceback": [
      "\u001b[1;31m---------------------------------------------------------------------------\u001b[0m",
      "\u001b[1;31mKeyboardInterrupt\u001b[0m                         Traceback (most recent call last)",
      "\u001b[1;32m~\\AppData\\Local\\Temp\\ipykernel_1012\\2704775066.py\u001b[0m in \u001b[0;36m<module>\u001b[1;34m\u001b[0m\n\u001b[0;32m      4\u001b[0m \u001b[1;31m# CV를 3개 폴드 세트로 지정, 성능 평가는 rmse, mse 로 수행 하도록 GridSearchCV 구성\u001b[0m\u001b[1;33m\u001b[0m\u001b[1;33m\u001b[0m\u001b[1;33m\u001b[0m\u001b[0m\n\u001b[0;32m      5\u001b[0m \u001b[0mgs\u001b[0m \u001b[1;33m=\u001b[0m \u001b[0mGridSearchCV\u001b[0m\u001b[1;33m(\u001b[0m\u001b[0mSVD\u001b[0m\u001b[1;33m,\u001b[0m \u001b[0mparam_grid\u001b[0m\u001b[1;33m,\u001b[0m \u001b[0mmeasures\u001b[0m\u001b[1;33m=\u001b[0m\u001b[1;33m[\u001b[0m\u001b[1;34m'rmse'\u001b[0m\u001b[1;33m,\u001b[0m \u001b[1;34m'mae'\u001b[0m\u001b[1;33m]\u001b[0m\u001b[1;33m,\u001b[0m \u001b[0mcv\u001b[0m\u001b[1;33m=\u001b[0m\u001b[1;36m3\u001b[0m\u001b[1;33m)\u001b[0m\u001b[1;33m\u001b[0m\u001b[1;33m\u001b[0m\u001b[0m\n\u001b[1;32m----> 6\u001b[1;33m \u001b[0mgs\u001b[0m\u001b[1;33m.\u001b[0m\u001b[0mfit\u001b[0m\u001b[1;33m(\u001b[0m\u001b[0mdf\u001b[0m\u001b[1;33m)\u001b[0m\u001b[1;33m\u001b[0m\u001b[1;33m\u001b[0m\u001b[0m\n\u001b[0m\u001b[0;32m      7\u001b[0m \u001b[1;33m\u001b[0m\u001b[0m\n\u001b[0;32m      8\u001b[0m \u001b[1;31m# 최고 RMSE Evaluation 점수와 그때의 하이퍼 파라미터\u001b[0m\u001b[1;33m\u001b[0m\u001b[1;33m\u001b[0m\u001b[1;33m\u001b[0m\u001b[0m\n",
      "\u001b[1;32m~\\anaconda3\\envs\\practice\\lib\\site-packages\\surprise\\model_selection\\search.py\u001b[0m in \u001b[0;36mfit\u001b[1;34m(self, data)\u001b[0m\n\u001b[0;32m     88\u001b[0m         out = Parallel(n_jobs=self.n_jobs,\n\u001b[0;32m     89\u001b[0m                        \u001b[0mpre_dispatch\u001b[0m\u001b[1;33m=\u001b[0m\u001b[0mself\u001b[0m\u001b[1;33m.\u001b[0m\u001b[0mpre_dispatch\u001b[0m\u001b[1;33m,\u001b[0m\u001b[1;33m\u001b[0m\u001b[1;33m\u001b[0m\u001b[0m\n\u001b[1;32m---> 90\u001b[1;33m                        verbose=self.joblib_verbose)(delayed_list)\n\u001b[0m\u001b[0;32m     91\u001b[0m \u001b[1;33m\u001b[0m\u001b[0m\n\u001b[0;32m     92\u001b[0m         (test_measures_dicts,\n",
      "\u001b[1;32m~\\anaconda3\\envs\\practice\\lib\\site-packages\\joblib\\parallel.py\u001b[0m in \u001b[0;36m__call__\u001b[1;34m(self, iterable)\u001b[0m\n\u001b[0;32m   1044\u001b[0m                 \u001b[0mself\u001b[0m\u001b[1;33m.\u001b[0m\u001b[0m_iterating\u001b[0m \u001b[1;33m=\u001b[0m \u001b[0mself\u001b[0m\u001b[1;33m.\u001b[0m\u001b[0m_original_iterator\u001b[0m \u001b[1;32mis\u001b[0m \u001b[1;32mnot\u001b[0m \u001b[1;32mNone\u001b[0m\u001b[1;33m\u001b[0m\u001b[1;33m\u001b[0m\u001b[0m\n\u001b[0;32m   1045\u001b[0m \u001b[1;33m\u001b[0m\u001b[0m\n\u001b[1;32m-> 1046\u001b[1;33m             \u001b[1;32mwhile\u001b[0m \u001b[0mself\u001b[0m\u001b[1;33m.\u001b[0m\u001b[0mdispatch_one_batch\u001b[0m\u001b[1;33m(\u001b[0m\u001b[0miterator\u001b[0m\u001b[1;33m)\u001b[0m\u001b[1;33m:\u001b[0m\u001b[1;33m\u001b[0m\u001b[1;33m\u001b[0m\u001b[0m\n\u001b[0m\u001b[0;32m   1047\u001b[0m                 \u001b[1;32mpass\u001b[0m\u001b[1;33m\u001b[0m\u001b[1;33m\u001b[0m\u001b[0m\n\u001b[0;32m   1048\u001b[0m \u001b[1;33m\u001b[0m\u001b[0m\n",
      "\u001b[1;32m~\\anaconda3\\envs\\practice\\lib\\site-packages\\joblib\\parallel.py\u001b[0m in \u001b[0;36mdispatch_one_batch\u001b[1;34m(self, iterator)\u001b[0m\n\u001b[0;32m    859\u001b[0m                 \u001b[1;32mreturn\u001b[0m \u001b[1;32mFalse\u001b[0m\u001b[1;33m\u001b[0m\u001b[1;33m\u001b[0m\u001b[0m\n\u001b[0;32m    860\u001b[0m             \u001b[1;32melse\u001b[0m\u001b[1;33m:\u001b[0m\u001b[1;33m\u001b[0m\u001b[1;33m\u001b[0m\u001b[0m\n\u001b[1;32m--> 861\u001b[1;33m                 \u001b[0mself\u001b[0m\u001b[1;33m.\u001b[0m\u001b[0m_dispatch\u001b[0m\u001b[1;33m(\u001b[0m\u001b[0mtasks\u001b[0m\u001b[1;33m)\u001b[0m\u001b[1;33m\u001b[0m\u001b[1;33m\u001b[0m\u001b[0m\n\u001b[0m\u001b[0;32m    862\u001b[0m                 \u001b[1;32mreturn\u001b[0m \u001b[1;32mTrue\u001b[0m\u001b[1;33m\u001b[0m\u001b[1;33m\u001b[0m\u001b[0m\n\u001b[0;32m    863\u001b[0m \u001b[1;33m\u001b[0m\u001b[0m\n",
      "\u001b[1;32m~\\anaconda3\\envs\\practice\\lib\\site-packages\\joblib\\parallel.py\u001b[0m in \u001b[0;36m_dispatch\u001b[1;34m(self, batch)\u001b[0m\n\u001b[0;32m    777\u001b[0m         \u001b[1;32mwith\u001b[0m \u001b[0mself\u001b[0m\u001b[1;33m.\u001b[0m\u001b[0m_lock\u001b[0m\u001b[1;33m:\u001b[0m\u001b[1;33m\u001b[0m\u001b[1;33m\u001b[0m\u001b[0m\n\u001b[0;32m    778\u001b[0m             \u001b[0mjob_idx\u001b[0m \u001b[1;33m=\u001b[0m \u001b[0mlen\u001b[0m\u001b[1;33m(\u001b[0m\u001b[0mself\u001b[0m\u001b[1;33m.\u001b[0m\u001b[0m_jobs\u001b[0m\u001b[1;33m)\u001b[0m\u001b[1;33m\u001b[0m\u001b[1;33m\u001b[0m\u001b[0m\n\u001b[1;32m--> 779\u001b[1;33m             \u001b[0mjob\u001b[0m \u001b[1;33m=\u001b[0m \u001b[0mself\u001b[0m\u001b[1;33m.\u001b[0m\u001b[0m_backend\u001b[0m\u001b[1;33m.\u001b[0m\u001b[0mapply_async\u001b[0m\u001b[1;33m(\u001b[0m\u001b[0mbatch\u001b[0m\u001b[1;33m,\u001b[0m \u001b[0mcallback\u001b[0m\u001b[1;33m=\u001b[0m\u001b[0mcb\u001b[0m\u001b[1;33m)\u001b[0m\u001b[1;33m\u001b[0m\u001b[1;33m\u001b[0m\u001b[0m\n\u001b[0m\u001b[0;32m    780\u001b[0m             \u001b[1;31m# A job can complete so quickly than its callback is\u001b[0m\u001b[1;33m\u001b[0m\u001b[1;33m\u001b[0m\u001b[1;33m\u001b[0m\u001b[0m\n\u001b[0;32m    781\u001b[0m             \u001b[1;31m# called before we get here, causing self._jobs to\u001b[0m\u001b[1;33m\u001b[0m\u001b[1;33m\u001b[0m\u001b[1;33m\u001b[0m\u001b[0m\n",
      "\u001b[1;32m~\\anaconda3\\envs\\practice\\lib\\site-packages\\joblib\\_parallel_backends.py\u001b[0m in \u001b[0;36mapply_async\u001b[1;34m(self, func, callback)\u001b[0m\n\u001b[0;32m    206\u001b[0m     \u001b[1;32mdef\u001b[0m \u001b[0mapply_async\u001b[0m\u001b[1;33m(\u001b[0m\u001b[0mself\u001b[0m\u001b[1;33m,\u001b[0m \u001b[0mfunc\u001b[0m\u001b[1;33m,\u001b[0m \u001b[0mcallback\u001b[0m\u001b[1;33m=\u001b[0m\u001b[1;32mNone\u001b[0m\u001b[1;33m)\u001b[0m\u001b[1;33m:\u001b[0m\u001b[1;33m\u001b[0m\u001b[1;33m\u001b[0m\u001b[0m\n\u001b[0;32m    207\u001b[0m         \u001b[1;34m\"\"\"Schedule a func to be run\"\"\"\u001b[0m\u001b[1;33m\u001b[0m\u001b[1;33m\u001b[0m\u001b[0m\n\u001b[1;32m--> 208\u001b[1;33m         \u001b[0mresult\u001b[0m \u001b[1;33m=\u001b[0m \u001b[0mImmediateResult\u001b[0m\u001b[1;33m(\u001b[0m\u001b[0mfunc\u001b[0m\u001b[1;33m)\u001b[0m\u001b[1;33m\u001b[0m\u001b[1;33m\u001b[0m\u001b[0m\n\u001b[0m\u001b[0;32m    209\u001b[0m         \u001b[1;32mif\u001b[0m \u001b[0mcallback\u001b[0m\u001b[1;33m:\u001b[0m\u001b[1;33m\u001b[0m\u001b[1;33m\u001b[0m\u001b[0m\n\u001b[0;32m    210\u001b[0m             \u001b[0mcallback\u001b[0m\u001b[1;33m(\u001b[0m\u001b[0mresult\u001b[0m\u001b[1;33m)\u001b[0m\u001b[1;33m\u001b[0m\u001b[1;33m\u001b[0m\u001b[0m\n",
      "\u001b[1;32m~\\anaconda3\\envs\\practice\\lib\\site-packages\\joblib\\_parallel_backends.py\u001b[0m in \u001b[0;36m__init__\u001b[1;34m(self, batch)\u001b[0m\n\u001b[0;32m    570\u001b[0m         \u001b[1;31m# Don't delay the application, to avoid keeping the input\u001b[0m\u001b[1;33m\u001b[0m\u001b[1;33m\u001b[0m\u001b[1;33m\u001b[0m\u001b[0m\n\u001b[0;32m    571\u001b[0m         \u001b[1;31m# arguments in memory\u001b[0m\u001b[1;33m\u001b[0m\u001b[1;33m\u001b[0m\u001b[1;33m\u001b[0m\u001b[0m\n\u001b[1;32m--> 572\u001b[1;33m         \u001b[0mself\u001b[0m\u001b[1;33m.\u001b[0m\u001b[0mresults\u001b[0m \u001b[1;33m=\u001b[0m \u001b[0mbatch\u001b[0m\u001b[1;33m(\u001b[0m\u001b[1;33m)\u001b[0m\u001b[1;33m\u001b[0m\u001b[1;33m\u001b[0m\u001b[0m\n\u001b[0m\u001b[0;32m    573\u001b[0m \u001b[1;33m\u001b[0m\u001b[0m\n\u001b[0;32m    574\u001b[0m     \u001b[1;32mdef\u001b[0m \u001b[0mget\u001b[0m\u001b[1;33m(\u001b[0m\u001b[0mself\u001b[0m\u001b[1;33m)\u001b[0m\u001b[1;33m:\u001b[0m\u001b[1;33m\u001b[0m\u001b[1;33m\u001b[0m\u001b[0m\n",
      "\u001b[1;32m~\\anaconda3\\envs\\practice\\lib\\site-packages\\joblib\\parallel.py\u001b[0m in \u001b[0;36m__call__\u001b[1;34m(self)\u001b[0m\n\u001b[0;32m    261\u001b[0m         \u001b[1;32mwith\u001b[0m \u001b[0mparallel_backend\u001b[0m\u001b[1;33m(\u001b[0m\u001b[0mself\u001b[0m\u001b[1;33m.\u001b[0m\u001b[0m_backend\u001b[0m\u001b[1;33m,\u001b[0m \u001b[0mn_jobs\u001b[0m\u001b[1;33m=\u001b[0m\u001b[0mself\u001b[0m\u001b[1;33m.\u001b[0m\u001b[0m_n_jobs\u001b[0m\u001b[1;33m)\u001b[0m\u001b[1;33m:\u001b[0m\u001b[1;33m\u001b[0m\u001b[1;33m\u001b[0m\u001b[0m\n\u001b[0;32m    262\u001b[0m             return [func(*args, **kwargs)\n\u001b[1;32m--> 263\u001b[1;33m                     for func, args, kwargs in self.items]\n\u001b[0m\u001b[0;32m    264\u001b[0m \u001b[1;33m\u001b[0m\u001b[0m\n\u001b[0;32m    265\u001b[0m     \u001b[1;32mdef\u001b[0m \u001b[0m__reduce__\u001b[0m\u001b[1;33m(\u001b[0m\u001b[0mself\u001b[0m\u001b[1;33m)\u001b[0m\u001b[1;33m:\u001b[0m\u001b[1;33m\u001b[0m\u001b[1;33m\u001b[0m\u001b[0m\n",
      "\u001b[1;32m~\\anaconda3\\envs\\practice\\lib\\site-packages\\joblib\\parallel.py\u001b[0m in \u001b[0;36m<listcomp>\u001b[1;34m(.0)\u001b[0m\n\u001b[0;32m    261\u001b[0m         \u001b[1;32mwith\u001b[0m \u001b[0mparallel_backend\u001b[0m\u001b[1;33m(\u001b[0m\u001b[0mself\u001b[0m\u001b[1;33m.\u001b[0m\u001b[0m_backend\u001b[0m\u001b[1;33m,\u001b[0m \u001b[0mn_jobs\u001b[0m\u001b[1;33m=\u001b[0m\u001b[0mself\u001b[0m\u001b[1;33m.\u001b[0m\u001b[0m_n_jobs\u001b[0m\u001b[1;33m)\u001b[0m\u001b[1;33m:\u001b[0m\u001b[1;33m\u001b[0m\u001b[1;33m\u001b[0m\u001b[0m\n\u001b[0;32m    262\u001b[0m             return [func(*args, **kwargs)\n\u001b[1;32m--> 263\u001b[1;33m                     for func, args, kwargs in self.items]\n\u001b[0m\u001b[0;32m    264\u001b[0m \u001b[1;33m\u001b[0m\u001b[0m\n\u001b[0;32m    265\u001b[0m     \u001b[1;32mdef\u001b[0m \u001b[0m__reduce__\u001b[0m\u001b[1;33m(\u001b[0m\u001b[0mself\u001b[0m\u001b[1;33m)\u001b[0m\u001b[1;33m:\u001b[0m\u001b[1;33m\u001b[0m\u001b[1;33m\u001b[0m\u001b[0m\n",
      "\u001b[1;32m~\\anaconda3\\envs\\practice\\lib\\site-packages\\surprise\\model_selection\\validation.py\u001b[0m in \u001b[0;36mfit_and_score\u001b[1;34m(algo, trainset, testset, measures, return_train_measures)\u001b[0m\n\u001b[0;32m    164\u001b[0m \u001b[1;33m\u001b[0m\u001b[0m\n\u001b[0;32m    165\u001b[0m     \u001b[0mstart_fit\u001b[0m \u001b[1;33m=\u001b[0m \u001b[0mtime\u001b[0m\u001b[1;33m.\u001b[0m\u001b[0mtime\u001b[0m\u001b[1;33m(\u001b[0m\u001b[1;33m)\u001b[0m\u001b[1;33m\u001b[0m\u001b[1;33m\u001b[0m\u001b[0m\n\u001b[1;32m--> 166\u001b[1;33m     \u001b[0malgo\u001b[0m\u001b[1;33m.\u001b[0m\u001b[0mfit\u001b[0m\u001b[1;33m(\u001b[0m\u001b[0mtrainset\u001b[0m\u001b[1;33m)\u001b[0m\u001b[1;33m\u001b[0m\u001b[1;33m\u001b[0m\u001b[0m\n\u001b[0m\u001b[0;32m    167\u001b[0m     \u001b[0mfit_time\u001b[0m \u001b[1;33m=\u001b[0m \u001b[0mtime\u001b[0m\u001b[1;33m.\u001b[0m\u001b[0mtime\u001b[0m\u001b[1;33m(\u001b[0m\u001b[1;33m)\u001b[0m \u001b[1;33m-\u001b[0m \u001b[0mstart_fit\u001b[0m\u001b[1;33m\u001b[0m\u001b[1;33m\u001b[0m\u001b[0m\n\u001b[0;32m    168\u001b[0m     \u001b[0mstart_test\u001b[0m \u001b[1;33m=\u001b[0m \u001b[0mtime\u001b[0m\u001b[1;33m.\u001b[0m\u001b[0mtime\u001b[0m\u001b[1;33m(\u001b[0m\u001b[1;33m)\u001b[0m\u001b[1;33m\u001b[0m\u001b[1;33m\u001b[0m\u001b[0m\n",
      "\u001b[1;32m~\\anaconda3\\envs\\practice\\lib\\site-packages\\surprise\\prediction_algorithms\\matrix_factorization.pyx\u001b[0m in \u001b[0;36msurprise.prediction_algorithms.matrix_factorization.SVD.fit\u001b[1;34m()\u001b[0m\n",
      "\u001b[1;32m~\\anaconda3\\envs\\practice\\lib\\site-packages\\surprise\\prediction_algorithms\\matrix_factorization.pyx\u001b[0m in \u001b[0;36msurprise.prediction_algorithms.matrix_factorization.SVD.sgd\u001b[1;34m()\u001b[0m\n",
      "\u001b[1;32m~\\anaconda3\\envs\\practice\\lib\\site-packages\\surprise\\trainset.py\u001b[0m in \u001b[0;36mall_ratings\u001b[1;34m(self)\u001b[0m\n\u001b[0;32m    187\u001b[0m         \u001b[1;32mfor\u001b[0m \u001b[0mu\u001b[0m\u001b[1;33m,\u001b[0m \u001b[0mu_ratings\u001b[0m \u001b[1;32min\u001b[0m \u001b[0miteritems\u001b[0m\u001b[1;33m(\u001b[0m\u001b[0mself\u001b[0m\u001b[1;33m.\u001b[0m\u001b[0mur\u001b[0m\u001b[1;33m)\u001b[0m\u001b[1;33m:\u001b[0m\u001b[1;33m\u001b[0m\u001b[1;33m\u001b[0m\u001b[0m\n\u001b[0;32m    188\u001b[0m             \u001b[1;32mfor\u001b[0m \u001b[0mi\u001b[0m\u001b[1;33m,\u001b[0m \u001b[0mr\u001b[0m \u001b[1;32min\u001b[0m \u001b[0mu_ratings\u001b[0m\u001b[1;33m:\u001b[0m\u001b[1;33m\u001b[0m\u001b[1;33m\u001b[0m\u001b[0m\n\u001b[1;32m--> 189\u001b[1;33m                 \u001b[1;32myield\u001b[0m \u001b[0mu\u001b[0m\u001b[1;33m,\u001b[0m \u001b[0mi\u001b[0m\u001b[1;33m,\u001b[0m \u001b[0mr\u001b[0m\u001b[1;33m\u001b[0m\u001b[1;33m\u001b[0m\u001b[0m\n\u001b[0m\u001b[0;32m    190\u001b[0m \u001b[1;33m\u001b[0m\u001b[0m\n\u001b[0;32m    191\u001b[0m     \u001b[1;32mdef\u001b[0m \u001b[0mbuild_testset\u001b[0m\u001b[1;33m(\u001b[0m\u001b[0mself\u001b[0m\u001b[1;33m)\u001b[0m\u001b[1;33m:\u001b[0m\u001b[1;33m\u001b[0m\u001b[1;33m\u001b[0m\u001b[0m\n",
      "\u001b[1;31mKeyboardInterrupt\u001b[0m: "
     ]
    }
   ],
   "source": [
    "# 최적화할 파라미터들을 딕셔너리 형태로 지정.\n",
    "param_grid = {'n_epochs': [20, 40, 60], 'n_factors': [50, 100, 200] }\n",
    " \n",
    "# CV를 3개 폴드 세트로 지정, 성능 평가는 rmse, mse 로 수행 하도록 GridSearchCV 구성\n",
    "gs = GridSearchCV(SVD, param_grid, measures=['rmse', 'mae'], cv=3)\n",
    "gs.fit(df)\n",
    " \n",
    "# 최고 RMSE Evaluation 점수와 그때의 하이퍼 파라미터\n",
    "print(gs.best_score['rmse'])\n",
    "print(gs.best_params['rmse'])"
   ]
  },
  {
   "cell_type": "code",
   "execution_count": null,
   "id": "2d4a4b97-c7c6-4e0f-a401-f5ef48bdaaa9",
   "metadata": {},
   "outputs": [
    {
     "name": "stdout",
     "output_type": "stream",
     "text": [
      "Computing the msd similarity matrix...\n",
      "Done computing similarity matrix.\n",
      "RMSE: 0.0000\n",
      "MSE: 0.0000\n",
      "RMSE: 0.0145\n",
      "MSE: 0.0002\n"
     ]
    }
   ],
   "source": [
    "algorithms = [KNNWithMeans(sim_options = {\"user_based\": False}),\n",
    "              KNNWithMeans(sim_options = {\"user_based\": True}),\n",
    "              SVD(), \n",
    "              SVDpp()]\n",
    "results = []\n",
    "mae = []\n",
    "for algo in algorithms:\n",
    "\n",
    "    algo.fit(train)\n",
    "    predictions = algo.test(test)\n",
    "    results.append(accuracy.rmse(predictions))\n",
    "    mae.append(accuracy.mse(predictions))"
   ]
  },
  {
   "cell_type": "code",
   "execution_count": 27,
   "id": "c7bf6104-9f7b-4f3e-aa13-557f378b935b",
   "metadata": {},
   "outputs": [],
   "source": [
    "algorithms = {'base': BaselineOnly(), \n",
    " 'knn' : KNNWithMeans(), \n",
    " 'svd' : SVD(), \n",
    " 'svdpp' :SVDpp()}"
   ]
  },
  {
   "cell_type": "code",
   "execution_count": 13,
   "id": "755676ed-3120-4e69-9962-6058f6412b6a",
   "metadata": {},
   "outputs": [],
   "source": [
    "def get_predictions(x):\n",
    "    result = algo.predict(x[user_id_var], x[item_id_var]).est\n",
    "    return result\n",
    "\n",
    "preds_df = item_df.copy()\n",
    "preds_df.loc[:, user_id_var] = '1'\n",
    "#preds_df 계산\n",
    "preds_df.loc[:, 'predictions'] = preds_df.apply(get_predictions, axis=1)"
   ]
  },
  {
   "cell_type": "code",
   "execution_count": 14,
   "id": "539c940a-ed31-40c5-abfd-517e2d2b22e6",
   "metadata": {},
   "outputs": [
    {
     "data": {
      "text/html": [
       "<div>\n",
       "<style scoped>\n",
       "    .dataframe tbody tr th:only-of-type {\n",
       "        vertical-align: middle;\n",
       "    }\n",
       "\n",
       "    .dataframe tbody tr th {\n",
       "        vertical-align: top;\n",
       "    }\n",
       "\n",
       "    .dataframe thead th {\n",
       "        text-align: right;\n",
       "    }\n",
       "</style>\n",
       "<table border=\"1\" class=\"dataframe\">\n",
       "  <thead>\n",
       "    <tr style=\"text-align: right;\">\n",
       "      <th></th>\n",
       "      <th>ITEM_ID</th>\n",
       "      <th>ITEM_NAME</th>\n",
       "      <th>CATEGORY_L1</th>\n",
       "      <th>STYLE</th>\n",
       "      <th>ITEM_DESCRIPTION</th>\n",
       "      <th>PRICE</th>\n",
       "      <th>USER_ID</th>\n",
       "      <th>predictions</th>\n",
       "    </tr>\n",
       "  </thead>\n",
       "  <tbody>\n",
       "    <tr>\n",
       "      <th>0</th>\n",
       "      <td>26bb732f-9159-432f-91ef-bad14fedd298</td>\n",
       "      <td>Kettle</td>\n",
       "      <td>housewares</td>\n",
       "      <td>kitchen</td>\n",
       "      <td>Unparalleled for every kitchen</td>\n",
       "      <td>58.99</td>\n",
       "      <td>1</td>\n",
       "      <td>4.966794</td>\n",
       "    </tr>\n",
       "    <tr>\n",
       "      <th>1</th>\n",
       "      <td>dc073623-4b95-47d9-93cb-0171c20baa04</td>\n",
       "      <td>Groovy Glasses</td>\n",
       "      <td>accessories</td>\n",
       "      <td>glasses</td>\n",
       "      <td>These groovy glasses for women are perfect eve...</td>\n",
       "      <td>131.99</td>\n",
       "      <td>1</td>\n",
       "      <td>5.000000</td>\n",
       "    </tr>\n",
       "    <tr>\n",
       "      <th>2</th>\n",
       "      <td>31efcfea-47d6-43f3-97f7-2704a5397e22</td>\n",
       "      <td>Gainsboro Sneakers</td>\n",
       "      <td>footwear</td>\n",
       "      <td>sneaker</td>\n",
       "      <td>Ultrahip pair of gainsboro sneakers for walkin...</td>\n",
       "      <td>209.99</td>\n",
       "      <td>1</td>\n",
       "      <td>5.000000</td>\n",
       "    </tr>\n",
       "    <tr>\n",
       "      <th>3</th>\n",
       "      <td>20fb1207-9bb2-4e68-9d86-b0368d55c82f</td>\n",
       "      <td>Christmas Wreath</td>\n",
       "      <td>floral</td>\n",
       "      <td>wreath</td>\n",
       "      <td>Christmas wreath grown sustainably on our orga...</td>\n",
       "      <td>96.99</td>\n",
       "      <td>1</td>\n",
       "      <td>5.000000</td>\n",
       "    </tr>\n",
       "    <tr>\n",
       "      <th>4</th>\n",
       "      <td>610d0b43-fbc2-481c-b2cb-570a4f8c214c</td>\n",
       "      <td>Christmas Wreath</td>\n",
       "      <td>floral</td>\n",
       "      <td>wreath</td>\n",
       "      <td>Christmas wreath grown sustainably on our orga...</td>\n",
       "      <td>147.99</td>\n",
       "      <td>1</td>\n",
       "      <td>4.942657</td>\n",
       "    </tr>\n",
       "    <tr>\n",
       "      <th>...</th>\n",
       "      <td>...</td>\n",
       "      <td>...</td>\n",
       "      <td>...</td>\n",
       "      <td>...</td>\n",
       "      <td>...</td>\n",
       "      <td>...</td>\n",
       "      <td>...</td>\n",
       "      <td>...</td>\n",
       "    </tr>\n",
       "    <tr>\n",
       "      <th>2444</th>\n",
       "      <td>079f8824-e91b-40ea-b159-5f7d0a9d9124</td>\n",
       "      <td>Christmas Figurines</td>\n",
       "      <td>seasonal</td>\n",
       "      <td>christmas</td>\n",
       "      <td>A favorite for the holidays</td>\n",
       "      <td>106.99</td>\n",
       "      <td>1</td>\n",
       "      <td>4.926885</td>\n",
       "    </tr>\n",
       "    <tr>\n",
       "      <th>2445</th>\n",
       "      <td>c964048a-2f3c-4085-ba68-78023737ae2f</td>\n",
       "      <td>Rattan Basket</td>\n",
       "      <td>homedecor</td>\n",
       "      <td>decorative</td>\n",
       "      <td>This rattan basket will delight everyone</td>\n",
       "      <td>17.99</td>\n",
       "      <td>1</td>\n",
       "      <td>5.000000</td>\n",
       "    </tr>\n",
       "    <tr>\n",
       "      <th>2446</th>\n",
       "      <td>9a905b67-bcca-4445-aeea-ae3146e1cf0d</td>\n",
       "      <td>First-Rate Necklace</td>\n",
       "      <td>jewelry</td>\n",
       "      <td>necklace</td>\n",
       "      <td>First-rate necklace for women</td>\n",
       "      <td>145.99</td>\n",
       "      <td>1</td>\n",
       "      <td>4.910409</td>\n",
       "    </tr>\n",
       "    <tr>\n",
       "      <th>2447</th>\n",
       "      <td>d0e671f9-495c-4aa3-ac49-019e66feb5be</td>\n",
       "      <td>Sans Pareil Necklace</td>\n",
       "      <td>jewelry</td>\n",
       "      <td>necklace</td>\n",
       "      <td>Sans pareil necklace for women</td>\n",
       "      <td>142.99</td>\n",
       "      <td>1</td>\n",
       "      <td>5.000000</td>\n",
       "    </tr>\n",
       "    <tr>\n",
       "      <th>2448</th>\n",
       "      <td>34898360-79dc-4a8c-b774-9a799b0e7054</td>\n",
       "      <td>Modish Earrings</td>\n",
       "      <td>jewelry</td>\n",
       "      <td>earrings</td>\n",
       "      <td>Modish earrings for women for everyday wear</td>\n",
       "      <td>67.99</td>\n",
       "      <td>1</td>\n",
       "      <td>5.000000</td>\n",
       "    </tr>\n",
       "  </tbody>\n",
       "</table>\n",
       "<p>2449 rows × 8 columns</p>\n",
       "</div>"
      ],
      "text/plain": [
       "                                   ITEM_ID             ITEM_NAME  CATEGORY_L1  \\\n",
       "0     26bb732f-9159-432f-91ef-bad14fedd298                Kettle   housewares   \n",
       "1     dc073623-4b95-47d9-93cb-0171c20baa04        Groovy Glasses  accessories   \n",
       "2     31efcfea-47d6-43f3-97f7-2704a5397e22    Gainsboro Sneakers     footwear   \n",
       "3     20fb1207-9bb2-4e68-9d86-b0368d55c82f      Christmas Wreath       floral   \n",
       "4     610d0b43-fbc2-481c-b2cb-570a4f8c214c      Christmas Wreath       floral   \n",
       "...                                    ...                   ...          ...   \n",
       "2444  079f8824-e91b-40ea-b159-5f7d0a9d9124   Christmas Figurines     seasonal   \n",
       "2445  c964048a-2f3c-4085-ba68-78023737ae2f         Rattan Basket    homedecor   \n",
       "2446  9a905b67-bcca-4445-aeea-ae3146e1cf0d   First-Rate Necklace      jewelry   \n",
       "2447  d0e671f9-495c-4aa3-ac49-019e66feb5be  Sans Pareil Necklace      jewelry   \n",
       "2448  34898360-79dc-4a8c-b774-9a799b0e7054       Modish Earrings      jewelry   \n",
       "\n",
       "           STYLE                                   ITEM_DESCRIPTION   PRICE  \\\n",
       "0        kitchen                     Unparalleled for every kitchen   58.99   \n",
       "1        glasses  These groovy glasses for women are perfect eve...  131.99   \n",
       "2        sneaker  Ultrahip pair of gainsboro sneakers for walkin...  209.99   \n",
       "3         wreath  Christmas wreath grown sustainably on our orga...   96.99   \n",
       "4         wreath  Christmas wreath grown sustainably on our orga...  147.99   \n",
       "...          ...                                                ...     ...   \n",
       "2444   christmas                        A favorite for the holidays  106.99   \n",
       "2445  decorative           This rattan basket will delight everyone   17.99   \n",
       "2446    necklace                      First-rate necklace for women  145.99   \n",
       "2447    necklace                     Sans pareil necklace for women  142.99   \n",
       "2448    earrings        Modish earrings for women for everyday wear   67.99   \n",
       "\n",
       "     USER_ID  predictions  \n",
       "0          1     4.966794  \n",
       "1          1     5.000000  \n",
       "2          1     5.000000  \n",
       "3          1     5.000000  \n",
       "4          1     4.942657  \n",
       "...      ...          ...  \n",
       "2444       1     4.926885  \n",
       "2445       1     5.000000  \n",
       "2446       1     4.910409  \n",
       "2447       1     5.000000  \n",
       "2448       1     5.000000  \n",
       "\n",
       "[2449 rows x 8 columns]"
      ]
     },
     "execution_count": 14,
     "metadata": {},
     "output_type": "execute_result"
    }
   ],
   "source": [
    "preds_df"
   ]
  },
  {
   "cell_type": "code",
   "execution_count": 11,
   "id": "b446d8e8-b246-466e-96b0-91115f393d0b",
   "metadata": {
    "tags": []
   },
   "outputs": [
    {
     "name": "stderr",
     "output_type": "stream",
     "text": [
      "100%|██████████████████████████████████████████████████████████████████████████████| 5250/5250 [05:54<00:00, 14.82it/s]\n"
     ]
    }
   ],
   "source": [
    "def get_predictions(x):\n",
    "    result = algo.predict(x[user_id_var], x[item_id_var]).est\n",
    "    return result\n",
    "\n",
    "def intersect(a, b):\n",
    "    return list(set(a) & set(b))\n",
    "    \n",
    "#아이템별 precision@k와 recall@k의 값을 알려줌\n",
    "def precision_recall(preds_df, item_df, interaction_df, num, user_id):\n",
    "    \n",
    "    #유저 아이디 df\n",
    "    user_id_df = interaction_df[interaction_df[user_id_var]==user_id]\n",
    "    \n",
    "    #유저 아이디가 본 아이텤 df\n",
    "    user_item_df = item_df[item_df[item_id_var].isin(user_id_df[item_id_var].tolist())]\n",
    "    user_item_list = user_item_df[item_id_var].tolist()\n",
    "    \n",
    "    #총 추천 아이템 추출\n",
    "    sorted_user_predictions = preds_df.sort_values('predictions',ascending=False)\n",
    "    \n",
    "    recommend_total_list_df = sorted_user_predictions.head(num)\n",
    "    recommend_total_list = recommend_total_list_df[item_id_var].tolist()\n",
    "    \n",
    "    #순수 추천 아이템 리스트\n",
    "    recommend_df_list = sorted_user_predictions[~sorted_user_predictions[item_id_var].isin(user_item_list)].head(num)[item_id_var].values.tolist()\n",
    "    recommend_df = item_df[item_df[item_id_var].isin(recommend_df_list)]\n",
    "    \n",
    "    #지표 산정\n",
    "    precision = len(intersect(user_item_list, recommend_total_list))/ len(recommend_total_list)\n",
    "    recall = len(intersect(user_item_list, recommend_total_list)) / len(user_item_list)\n",
    "    \n",
    "    return precision, recall, user_item_df, recommend_df\n",
    "\n",
    "\n",
    "def perf_metric(user_df, item_df, interaction_df, num):\n",
    "    \n",
    "    user_item_dfs = pd.DataFrame()\n",
    "    recommend_dfs = pd.DataFrame()\n",
    "    dict_list = []\n",
    "    for USER_ID in tqdm.tqdm(user_df[user_id_var].values):\n",
    "    #for USER_ID in tqdm.tqdm(['1']): #,'2','3','4']):\n",
    "        preds_df = item_df.copy()\n",
    "        preds_df.loc[:, user_id_var] = USER_ID\n",
    "        #preds_df 계산\n",
    "        preds_df.loc[:, 'predictions'] = preds_df.apply(get_predictions, axis=1)\n",
    "        precision, recall, user_item_df, recommend_df = precision_recall(preds_df, item_df, interaction_df, num, USER_ID)\n",
    "        dict_ = {}\n",
    "        dict_.update({\"userID\" : USER_ID})\n",
    "        dict_.update({f\"precision@{num}\" : precision})\n",
    "        dict_.update({f\"recall@{num}\" : recall})\n",
    "        dict_list.append(dict_)\n",
    "        \n",
    "        #이미 user가 선정했던 item 확인\n",
    "        user_item_df = user_item_df.copy()\n",
    "        user_item_df.loc[:, user_id_var] = USER_ID\n",
    "        user_item_dfs= pd.concat([user_item_dfs, user_item_df], axis=0)\n",
    "    \n",
    "    \n",
    "        #상위 추천 item 중 이미 user가 선정했던 item 제외 후 추천 목록 추출\n",
    "        recommend_df = recommend_df.copy()\n",
    "        recommend_df.loc[:, user_id_var] = USER_ID\n",
    "        recommend_dfs = pd.concat([recommend_dfs, recommend_df], axis=0)\n",
    "    accuracy_df = pd.DataFrame(dict_list)\n",
    "    return accuracy_df, user_item_dfs, recommend_dfs\n",
    "accuracy_df, user_item_df, recommendations_df = perf_metric(user_df, item_df, interaction_df, num = 10) "
   ]
  },
  {
   "cell_type": "code",
   "execution_count": null,
   "id": "b5185b73-da0a-4f14-99ab-63988577cce4",
   "metadata": {},
   "outputs": [],
   "source": []
  },
  {
   "cell_type": "code",
   "execution_count": 12,
   "id": "502c7b0f-b652-4a97-8823-57f07a0e1f09",
   "metadata": {},
   "outputs": [
    {
     "name": "stdout",
     "output_type": "stream",
     "text": [
      "(67343, 7)\n",
      "(52500, 7)\n"
     ]
    }
   ],
   "source": [
    "print(user_item_df.shape)\n",
    "print(recommendations_df.shape)"
   ]
  },
  {
   "cell_type": "code",
   "execution_count": 13,
   "id": "41928bbe-49f9-4f53-932f-373484e619af",
   "metadata": {},
   "outputs": [
    {
     "name": "stdout",
     "output_type": "stream",
     "text": [
      "TASK : 사용자별 상품 추천\n",
      "분석 알고리즘 : 상품-사용자 연계 추천\n",
      "사용자 변수: USER_ID (5250)\n",
      "사용자 변수: ITEM_ID (2449)\n",
      "모델 훈련 개수 : 587719개\n",
      "모델 검증 개수 : 58771개\n",
      "검증 기준 : 모든 사용자의 최근 사용(Timestamp) 내역\n",
      "성능 지표 : Precision@K, Recall@K\n",
      "Precision@K : 0.006\n",
      "Recall@K    : 0.005\n"
     ]
    }
   ],
   "source": [
    "print('TASK : 사용자별 상품 추천')\n",
    "print('분석 알고리즘 : 상품-사용자 연계 추천')\n",
    "print(f'사용자 변수: {user_id_var} ({interaction_df[user_id_var].nunique()})')\n",
    "print(f'사용자 변수: {item_id_var} ({interaction_df[item_id_var].nunique()})')\n",
    "print(f'모델 훈련 개수 : {len(interaction_df)}개')\n",
    "print(f'모델 검증 개수 : {int(len(interaction_df)*0.1)}개') #본사업에서 따로 구현 X\n",
    "print('검증 기준 : 모든 사용자의 최근 사용(Timestamp) 내역')\n",
    "print('성능 지표 : Precision@K, Recall@K')\n",
    "print(f\"Precision@K : {np.round(np.mean(accuracy_df['precision@10']),3)}\")\n",
    "print(f\"Recall@K    : {np.round(np.mean(accuracy_df['recall@10']),3)}\")"
   ]
  },
  {
   "cell_type": "code",
   "execution_count": null,
   "id": "ccf26581-4ccc-470d-9312-81c9f4f2cb3d",
   "metadata": {},
   "outputs": [],
   "source": []
  }
 ],
 "metadata": {
  "kernelspec": {
   "display_name": "Python 3 (ipykernel)",
   "language": "python",
   "name": "python3"
  },
  "language_info": {
   "codemirror_mode": {
    "name": "ipython",
    "version": 3
   },
   "file_extension": ".py",
   "mimetype": "text/x-python",
   "name": "python",
   "nbconvert_exporter": "python",
   "pygments_lexer": "ipython3",
   "version": "3.7.11"
  }
 },
 "nbformat": 4,
 "nbformat_minor": 5
}
