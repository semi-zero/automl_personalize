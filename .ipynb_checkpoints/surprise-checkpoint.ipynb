{
 "cells": [
  {
   "cell_type": "code",
   "execution_count": 18,
   "id": "7db24dec-fa8e-4144-ad46-a4dfd5a7dc60",
   "metadata": {},
   "outputs": [],
   "source": [
    "import numpy as np\n",
    "import pandas as pd\n",
    "import os\n",
    "\n",
    "from sklearn.metrics import mean_squared_error\n",
    "from sklearn.metrics.pairwise import pairwise_distances, cosine_similarity\n",
    "\n",
    "#surprise\n",
    "from surprise import SVD, accuracy\n",
    "from surprise import Dataset, Reader\n",
    "from surprise.model_selection import train_test_split, cross_validate, GridSearchCV"
   ]
  },
  {
   "cell_type": "code",
   "execution_count": 13,
   "id": "dad4d86c-56a6-4af8-8d9a-f2ca0e09ec45",
   "metadata": {},
   "outputs": [],
   "source": [
    "data_path = 'movie_data/interaction_data.csv'\n",
    "_num_recommendations=10\n",
    "_viewer_threshold=5\n",
    "item_id_var = 'ITEM_ID'\n",
    "user_id_var = 'USER_ID'\n",
    "event = 'EVENT_TYPE'\n",
    "timestamp = 'TIMESTAMP'"
   ]
  },
  {
   "cell_type": "code",
   "execution_count": null,
   "id": "43c05046-0662-46f4-b478-2745ce1be4d0",
   "metadata": {},
   "outputs": [],
   "source": []
  },
  {
   "cell_type": "code",
   "execution_count": 73,
   "id": "1f685189-8a7e-4558-b5cf-218334b80ea7",
   "metadata": {},
   "outputs": [],
   "source": [
    "data = pd.read_csv(data_path)\n",
    "data[item_id_var] = data[item_id_var].astype(str)\n",
    "data[user_id_var] = data[user_id_var].astype(str)\n",
    "\n",
    "#interaction 데이터셋 생성\n",
    "interaction_df=data[[item_id_var, user_id_var, event, timestamp]]\n",
    "if data[event].dtypes != float:\n",
    "    interaction_df.loc[:, event] = 1\n",
    "\n",
    "\n",
    "\n",
    "#user 데이터셋 생성\n",
    "user_df = data[[user_id_var]].drop_duplicates(user_id_var).reset_index(drop=True)\n",
    "\n",
    "#item 데이터셋 생성\n",
    "item_df = data[[item_id_var]].drop_duplicates(item_id_var).reset_index(drop=True)"
   ]
  },
  {
   "cell_type": "code",
   "execution_count": 74,
   "id": "a094ec79-a38f-4ac8-a37b-5965cf87fc7f",
   "metadata": {},
   "outputs": [],
   "source": [
    "reader = Reader(rating_scale = (0.5, 5))\n",
    "df = Dataset.load_from_df(data[[user_id_var, item_id_var, event]], \n",
    "                          reader = reader)\n",
    "train, test = train_test_split(df, test_size = 0.25, random_state=42)"
   ]
  },
  {
   "cell_type": "code",
   "execution_count": 75,
   "id": "2d4a4b97-c7c6-4e0f-a401-f5ef48bdaaa9",
   "metadata": {},
   "outputs": [
    {
     "data": {
      "text/plain": [
       "<surprise.prediction_algorithms.matrix_factorization.SVD at 0x1d31e46f348>"
      ]
     },
     "execution_count": 75,
     "metadata": {},
     "output_type": "execute_result"
    }
   ],
   "source": [
    "algo = SVD()\n",
    "algo.fit(train)"
   ]
  },
  {
   "cell_type": "code",
   "execution_count": 76,
   "id": "755676ed-3120-4e69-9962-6058f6412b6a",
   "metadata": {},
   "outputs": [
    {
     "name": "stdout",
     "output_type": "stream",
     "text": [
      "RMSE: 0.8549\n"
     ]
    },
    {
     "data": {
      "text/plain": [
       "0.854936306904799"
      ]
     },
     "execution_count": 76,
     "metadata": {},
     "output_type": "execute_result"
    }
   ],
   "source": [
    "predictions = algo.test(test)\n",
    "accuracy.rmse(predictions)"
   ]
  },
  {
   "cell_type": "code",
   "execution_count": null,
   "id": "18f4472a-fbbc-4580-b21f-a2c53edcbed0",
   "metadata": {},
   "outputs": [],
   "source": [
    "# cross_validate(algo, df, measures=['RMSE', 'MAE'], cv = 5, verbose=True)\n",
    "# from surprise.model_selection import cross_validate\n",
    "# from surprise.model_selection import GridSearchCV\n",
    "\n",
    "# param_grid = {'n_epochs' : [20, 40], 'n_factors': [50, 100, 200]}\n",
    "# grid = GridSearchCV(SVD, param_grid = param_grid, measures = ['rmse', 'mae'], cv=3)\n",
    "# grid.fit(df)\n",
    "# print(grid.best_score['rmse'])\n",
    "# print(grid.best_params['rmse'])"
   ]
  },
  {
   "cell_type": "code",
   "execution_count": 77,
   "id": "af22af7b-98ee-45c2-85bb-31c91d95481e",
   "metadata": {},
   "outputs": [],
   "source": [
    "USER_ID = '11'\n",
    "predictions = [[algo.predict(USER_ID, ITEM_ID).uid, algo.predict(USER_ID, ITEM_ID).iid, algo.predict(USER_ID, ITEM_ID).est] \n",
    "               for ITEM_ID in item_df[item_id_var].values]\n",
    "preds_df = pd.DataFrame(predictions, columns = [user_id_var, item_id_var, 'predictions'])"
   ]
  },
  {
   "cell_type": "code",
   "execution_count": 93,
   "id": "774cfb62-7334-4abb-b694-38200eb92717",
   "metadata": {},
   "outputs": [],
   "source": [
    "def intersect(a, b):\n",
    "    return list(set(a) & set(b))\n",
    "\n",
    "#USER_ID별 precision, recall 구하기\n",
    "def precision_recall(preds_df, interaction_df, item_df, USER_ID, num_recommendations):\n",
    "    predictions = [[algo.predict(USER_ID, ITEM_ID).uid, algo.predict(USER_ID, ITEM_ID).iid, algo.predict(USER_ID, ITEM_ID).est] \n",
    "               for ITEM_ID in item_df[item_id_var].values]\n",
    "    preds_df = pd.DataFrame(predictions, columns = [user_id_var, item_id_var, 'predictions'])\n",
    "    \n",
    "    #상위 예측치 데이터프레임 추출\n",
    "    sorted_predictions = preds_df.sort_values('predictions', ascending=False).head(num_recommendations)\n",
    "    \n",
    "    #유저 데이터 추출\n",
    "    user_data = interaction_df[interaction_df[user_id_var]==USER_ID]\n",
    "    \n",
    "    #유저 데이터에서 유저가 본 아이템 추출\n",
    "    user_item_list = user_data[item_id_var].tolist()\n",
    "\n",
    "    #추천 아이템 추출\n",
    "    recommended_total_list = sorted_predictions[item_id_var].tolist()\n",
    "    \n",
    "    #순수추천 아이템 추출\n",
    "    recommended_list = list(set(recommended_total_list) - set(user_item_list))\n",
    "\n",
    "    precision = len(intersect(user_item_list, recommended_item_list))/ len(recommended_item_list)\n",
    "    recall = len(intersect(user_item_list, recommended_item_list)) / len(user_item_list)\n",
    "    \n",
    "    return precision, recall, user_item_list, recommended_list"
   ]
  },
  {
   "cell_type": "code",
   "execution_count": 94,
   "id": "7f083821-ca62-4546-9775-a25712c61ebd",
   "metadata": {},
   "outputs": [],
   "source": [
    "precision, recall, user_item_list, recommended_list = precision_recall(preds_df, item_df, interaction_df, USER_ID, num_recommendations=10)"
   ]
  },
  {
   "cell_type": "code",
   "execution_count": 86,
   "id": "cb4f3f6a-992d-457a-9d4a-da6dd6436a3b",
   "metadata": {},
   "outputs": [],
   "source": [
    "def perf_metric(preds_df, interaction_df, item_df, user_df,  num_recommendations):\n",
    "    \n",
    "    user_item_df = pd.DataFrame()\n",
    "    recommendations_df = pd.DataFrame()\n",
    "    dict_list = []\n",
    "    for user_id in tqdm.tqdm(interaction_df[user_id_var].unique()):\n",
    "        precision, recall, user_item_list, recommended_list = precision_recall(preds_df, interaction_df, item_df\n",
    "                                                                               USER_ID = user_id, num_recommendations)\n",
    "        dict_ = {}\n",
    "        dict_.update({\"userID\" : user_id})\n",
    "        dict_.update({f\"precision@{num_recommendations}\" : precision})\n",
    "        dict_.update({f\"recall@{num_recommendations}\" : recall})\n",
    "        dict_list.append(dict_)\n",
    "    accuracy_df = pd.DataFrame(dict_list)\n",
    "    return accuracy_df"
   ]
  },
  {
   "cell_type": "code",
   "execution_count": 87,
   "id": "fa7553e3-7435-4814-a36b-053fcacafb9d",
   "metadata": {},
   "outputs": [],
   "source": [
    "import tqdm"
   ]
  },
  {
   "cell_type": "code",
   "execution_count": 88,
   "id": "fc55bc8d-6820-4f25-ad96-79833397f9c2",
   "metadata": {},
   "outputs": [
    {
     "name": "stderr",
     "output_type": "stream",
     "text": [
      "100%|████████████████████████████████████████████████████████████████████████████| 10000/10000 [16:57<00:00,  9.83it/s]\n"
     ]
    }
   ],
   "source": [
    "accuracy_df = perf_metric(preds_df, item_df, interaction_df, num_recommendations=_num_recommendations)"
   ]
  },
  {
   "cell_type": "code",
   "execution_count": null,
   "id": "68c6eefa-8f8b-474a-87f0-3be8fa007c5d",
   "metadata": {},
   "outputs": [],
   "source": [
    "accuracy_df"
   ]
  },
  {
   "cell_type": "code",
   "execution_count": null,
   "id": "41928bbe-49f9-4f53-932f-373484e619af",
   "metadata": {},
   "outputs": [],
   "source": [
    "print('TASK : 사용자별 상품 추천')\n",
    "print('분석 알고리즘 : 상품-사용자 연계 추천')\n",
    "print(f'사용자 변수: {user_id_var} ({interaction_df[user_id_var].nunique()})')\n",
    "print(f'사용자 변수: {item_id_var} ({interaction_df[item_id_var].nunique()})')\n",
    "print(f'모델 훈련 개수 : {len(interaction_df)}개')\n",
    "print(f'모델 검증 개수 : {int(len(interaction_df)*0.1)}개') #본사업에서 따로 구현 X\n",
    "print('검증 기준 : 모든 사용자의 최근 사용(Timestamp) 내역')\n",
    "print('성능 지표 : Precision@K, Recall@K')\n",
    "print(f\"Precision@K : {np.round(np.mean(accuracy_df['precision@10']),3)}\")\n",
    "print(f\"Recall@K    : {np.round(np.mean(accuracy_df['recall@10']),3)}\")"
   ]
  },
  {
   "cell_type": "code",
   "execution_count": 72,
   "id": "b74d3ac8-6039-4663-860d-afed5dcbab2c",
   "metadata": {},
   "outputs": [
    {
     "ename": "ValueError",
     "evalue": "You are trying to merge on int64 and object columns. If you wish to proceed you should use pd.concat",
     "output_type": "error",
     "traceback": [
      "\u001b[1;31m---------------------------------------------------------------------------\u001b[0m",
      "\u001b[1;31mValueError\u001b[0m                                Traceback (most recent call last)",
      "\u001b[1;32m~\\AppData\\Local\\Temp\\ipykernel_14084\\3940591670.py\u001b[0m in \u001b[0;36m<module>\u001b[1;34m\u001b[0m\n\u001b[0;32m     17\u001b[0m     \u001b[1;32mreturn\u001b[0m \u001b[0muser_item\u001b[0m\u001b[1;33m.\u001b[0m\u001b[0mreset_index\u001b[0m\u001b[1;33m(\u001b[0m\u001b[0mdrop\u001b[0m\u001b[1;33m=\u001b[0m\u001b[1;32mTrue\u001b[0m\u001b[1;33m)\u001b[0m\u001b[1;33m,\u001b[0m \u001b[0mrecommendations\u001b[0m\u001b[1;33m.\u001b[0m\u001b[0mreset_index\u001b[0m\u001b[1;33m(\u001b[0m\u001b[0mdrop\u001b[0m\u001b[1;33m=\u001b[0m\u001b[1;32mTrue\u001b[0m\u001b[1;33m)\u001b[0m\u001b[1;33m\u001b[0m\u001b[1;33m\u001b[0m\u001b[0m\n\u001b[0;32m     18\u001b[0m \u001b[1;33m\u001b[0m\u001b[0m\n\u001b[1;32m---> 19\u001b[1;33m \u001b[0muser_item\u001b[0m\u001b[1;33m,\u001b[0m \u001b[0mrecommendations\u001b[0m \u001b[1;33m=\u001b[0m \u001b[0mmake_recommendations\u001b[0m\u001b[1;33m(\u001b[0m\u001b[0mpreds_df\u001b[0m\u001b[1;33m,\u001b[0m \u001b[0minteraction_df\u001b[0m\u001b[1;33m,\u001b[0m \u001b[0mitem_df\u001b[0m\u001b[1;33m,\u001b[0m \u001b[0mUSER_ID\u001b[0m\u001b[1;33m)\u001b[0m\u001b[1;33m\u001b[0m\u001b[1;33m\u001b[0m\u001b[0m\n\u001b[0m",
      "\u001b[1;32m~\\AppData\\Local\\Temp\\ipykernel_14084\\3940591670.py\u001b[0m in \u001b[0;36mmake_recommendations\u001b[1;34m(preds_df, interaction_df, item_df, USER_ID)\u001b[0m\n\u001b[0;32m     12\u001b[0m     \u001b[1;31m#상위 추천 ITEM중 이미 USER_ID가 선정했던 ITEM 제외 후 추천 목록 추출\u001b[0m\u001b[1;33m\u001b[0m\u001b[1;33m\u001b[0m\u001b[1;33m\u001b[0m\u001b[0m\n\u001b[0;32m     13\u001b[0m     \u001b[0mrecommended_items\u001b[0m \u001b[1;33m=\u001b[0m \u001b[0msorted_predictions\u001b[0m\u001b[1;33m.\u001b[0m\u001b[0mindex\u001b[0m\u001b[1;33m.\u001b[0m\u001b[0mtolist\u001b[0m\u001b[1;33m(\u001b[0m\u001b[1;33m)\u001b[0m\u001b[1;33m\u001b[0m\u001b[1;33m\u001b[0m\u001b[0m\n\u001b[1;32m---> 14\u001b[1;33m     \u001b[0mrecommendations\u001b[0m \u001b[1;33m=\u001b[0m \u001b[0mitem_df\u001b[0m\u001b[1;33m[\u001b[0m\u001b[1;33m~\u001b[0m\u001b[0mitem_df\u001b[0m\u001b[1;33m[\u001b[0m\u001b[0mitem_id_var\u001b[0m\u001b[1;33m]\u001b[0m\u001b[1;33m.\u001b[0m\u001b[0misin\u001b[0m\u001b[1;33m(\u001b[0m\u001b[0muser_item\u001b[0m\u001b[1;33m[\u001b[0m\u001b[0mitem_id_var\u001b[0m\u001b[1;33m]\u001b[0m\u001b[1;33m)\u001b[0m\u001b[1;33m]\u001b[0m\u001b[1;33m.\u001b[0m\u001b[0mmerge\u001b[0m\u001b[1;33m(\u001b[0m\u001b[0msorted_predictions\u001b[0m\u001b[1;33m,\u001b[0m \u001b[0mhow\u001b[0m\u001b[1;33m=\u001b[0m\u001b[1;34m'inner'\u001b[0m\u001b[1;33m,\u001b[0m\u001b[0mon\u001b[0m\u001b[1;33m=\u001b[0m\u001b[0mitem_id_var\u001b[0m\u001b[1;33m)\u001b[0m\u001b[1;33m\u001b[0m\u001b[1;33m\u001b[0m\u001b[0m\n\u001b[0m\u001b[0;32m     15\u001b[0m     \u001b[0mrecommendations\u001b[0m \u001b[1;33m=\u001b[0m \u001b[0mrecommendations\u001b[0m\u001b[1;33m.\u001b[0m\u001b[0msort_values\u001b[0m\u001b[1;33m(\u001b[0m\u001b[1;34m'Predictions'\u001b[0m\u001b[1;33m,\u001b[0m \u001b[0mascending\u001b[0m\u001b[1;33m=\u001b[0m\u001b[1;32mFalse\u001b[0m\u001b[1;33m)\u001b[0m\u001b[1;33m.\u001b[0m\u001b[0mhead\u001b[0m\u001b[1;33m(\u001b[0m\u001b[0m_num_recommendations\u001b[0m\u001b[1;33m)\u001b[0m\u001b[1;33m\u001b[0m\u001b[1;33m\u001b[0m\u001b[0m\n\u001b[0;32m     16\u001b[0m \u001b[1;33m\u001b[0m\u001b[0m\n",
      "\u001b[1;32m~\\anaconda3\\envs\\practice\\lib\\site-packages\\pandas\\core\\frame.py\u001b[0m in \u001b[0;36mmerge\u001b[1;34m(self, right, how, on, left_on, right_on, left_index, right_index, sort, suffixes, copy, indicator, validate)\u001b[0m\n\u001b[0;32m   9201\u001b[0m             \u001b[0mcopy\u001b[0m\u001b[1;33m=\u001b[0m\u001b[0mcopy\u001b[0m\u001b[1;33m,\u001b[0m\u001b[1;33m\u001b[0m\u001b[1;33m\u001b[0m\u001b[0m\n\u001b[0;32m   9202\u001b[0m             \u001b[0mindicator\u001b[0m\u001b[1;33m=\u001b[0m\u001b[0mindicator\u001b[0m\u001b[1;33m,\u001b[0m\u001b[1;33m\u001b[0m\u001b[1;33m\u001b[0m\u001b[0m\n\u001b[1;32m-> 9203\u001b[1;33m             \u001b[0mvalidate\u001b[0m\u001b[1;33m=\u001b[0m\u001b[0mvalidate\u001b[0m\u001b[1;33m,\u001b[0m\u001b[1;33m\u001b[0m\u001b[1;33m\u001b[0m\u001b[0m\n\u001b[0m\u001b[0;32m   9204\u001b[0m         )\n\u001b[0;32m   9205\u001b[0m \u001b[1;33m\u001b[0m\u001b[0m\n",
      "\u001b[1;32m~\\anaconda3\\envs\\practice\\lib\\site-packages\\pandas\\core\\reshape\\merge.py\u001b[0m in \u001b[0;36mmerge\u001b[1;34m(left, right, how, on, left_on, right_on, left_index, right_index, sort, suffixes, copy, indicator, validate)\u001b[0m\n\u001b[0;32m    117\u001b[0m         \u001b[0mcopy\u001b[0m\u001b[1;33m=\u001b[0m\u001b[0mcopy\u001b[0m\u001b[1;33m,\u001b[0m\u001b[1;33m\u001b[0m\u001b[1;33m\u001b[0m\u001b[0m\n\u001b[0;32m    118\u001b[0m         \u001b[0mindicator\u001b[0m\u001b[1;33m=\u001b[0m\u001b[0mindicator\u001b[0m\u001b[1;33m,\u001b[0m\u001b[1;33m\u001b[0m\u001b[1;33m\u001b[0m\u001b[0m\n\u001b[1;32m--> 119\u001b[1;33m         \u001b[0mvalidate\u001b[0m\u001b[1;33m=\u001b[0m\u001b[0mvalidate\u001b[0m\u001b[1;33m,\u001b[0m\u001b[1;33m\u001b[0m\u001b[1;33m\u001b[0m\u001b[0m\n\u001b[0m\u001b[0;32m    120\u001b[0m     )\n\u001b[0;32m    121\u001b[0m     \u001b[1;32mreturn\u001b[0m \u001b[0mop\u001b[0m\u001b[1;33m.\u001b[0m\u001b[0mget_result\u001b[0m\u001b[1;33m(\u001b[0m\u001b[1;33m)\u001b[0m\u001b[1;33m\u001b[0m\u001b[1;33m\u001b[0m\u001b[0m\n",
      "\u001b[1;32m~\\anaconda3\\envs\\practice\\lib\\site-packages\\pandas\\core\\reshape\\merge.py\u001b[0m in \u001b[0;36m__init__\u001b[1;34m(self, left, right, how, on, left_on, right_on, axis, left_index, right_index, sort, suffixes, copy, indicator, validate)\u001b[0m\n\u001b[0;32m    701\u001b[0m         \u001b[1;31m# validate the merge keys dtypes. We may need to coerce\u001b[0m\u001b[1;33m\u001b[0m\u001b[1;33m\u001b[0m\u001b[1;33m\u001b[0m\u001b[0m\n\u001b[0;32m    702\u001b[0m         \u001b[1;31m# to avoid incompatible dtypes\u001b[0m\u001b[1;33m\u001b[0m\u001b[1;33m\u001b[0m\u001b[1;33m\u001b[0m\u001b[0m\n\u001b[1;32m--> 703\u001b[1;33m         \u001b[0mself\u001b[0m\u001b[1;33m.\u001b[0m\u001b[0m_maybe_coerce_merge_keys\u001b[0m\u001b[1;33m(\u001b[0m\u001b[1;33m)\u001b[0m\u001b[1;33m\u001b[0m\u001b[1;33m\u001b[0m\u001b[0m\n\u001b[0m\u001b[0;32m    704\u001b[0m \u001b[1;33m\u001b[0m\u001b[0m\n\u001b[0;32m    705\u001b[0m         \u001b[1;31m# If argument passed to validate,\u001b[0m\u001b[1;33m\u001b[0m\u001b[1;33m\u001b[0m\u001b[1;33m\u001b[0m\u001b[0m\n",
      "\u001b[1;32m~\\anaconda3\\envs\\practice\\lib\\site-packages\\pandas\\core\\reshape\\merge.py\u001b[0m in \u001b[0;36m_maybe_coerce_merge_keys\u001b[1;34m(self)\u001b[0m\n\u001b[0;32m   1254\u001b[0m                     \u001b[0minferred_right\u001b[0m \u001b[1;32min\u001b[0m \u001b[0mstring_types\u001b[0m \u001b[1;32mand\u001b[0m \u001b[0minferred_left\u001b[0m \u001b[1;32mnot\u001b[0m \u001b[1;32min\u001b[0m \u001b[0mstring_types\u001b[0m\u001b[1;33m\u001b[0m\u001b[1;33m\u001b[0m\u001b[0m\n\u001b[0;32m   1255\u001b[0m                 ):\n\u001b[1;32m-> 1256\u001b[1;33m                     \u001b[1;32mraise\u001b[0m \u001b[0mValueError\u001b[0m\u001b[1;33m(\u001b[0m\u001b[0mmsg\u001b[0m\u001b[1;33m)\u001b[0m\u001b[1;33m\u001b[0m\u001b[1;33m\u001b[0m\u001b[0m\n\u001b[0m\u001b[0;32m   1257\u001b[0m \u001b[1;33m\u001b[0m\u001b[0m\n\u001b[0;32m   1258\u001b[0m             \u001b[1;31m# datetimelikes must match exactly\u001b[0m\u001b[1;33m\u001b[0m\u001b[1;33m\u001b[0m\u001b[1;33m\u001b[0m\u001b[0m\n",
      "\u001b[1;31mValueError\u001b[0m: You are trying to merge on int64 and object columns. If you wish to proceed you should use pd.concat"
     ]
    }
   ],
   "source": [
    "USER_ID = 1\n",
    "def make_recommendations(preds_df, interaction_df, item_df, USER_ID):\n",
    "    #USER_ID 별 상위 ITEM 추천 목록 생성\n",
    "    sorted_predictions = preds_df.sort_values('predictions', ascending=False)\n",
    "    sorted_predictions = pd.DataFrame(sorted_predictions.reset_index())\n",
    "    sorted_predictions.columns = ['ITEM_ID', 'Predictions']\n",
    "\n",
    "    #이미 USER_ID가 선정했던 ITEM 확인\n",
    "    user_data = interaction_df[interaction_df[user_id_var]==USER_ID]\n",
    "    user_item = item_df[item_df[item_id_var].isin(user_data[item_id_var].tolist())]\n",
    "    #print('User {0} has already viewed or buyed {1} items'.format(USER_ID, user_item.shape[0]))\n",
    "\n",
    "    #상위 추천 ITEM중 이미 USER_ID가 선정했던 ITEM 제외 후 추천 목록 추출\n",
    "    recommended_items = sorted_predictions.index.tolist()\n",
    "    recommendations = item_df[~item_df[item_id_var].isin(user_item[item_id_var])].merge(sorted_predictions, how='inner',on=item_id_var)\n",
    "    recommendations = recommendations.sort_values('Predictions', ascending=False).head(_num_recommendations)\n",
    "\n",
    "    return user_item.reset_index(drop=True), recommendations.reset_index(drop=True)\n",
    "\n",
    "user_item, recommendations = make_recommendations(preds_df, interaction_df, item_df, USER_ID)"
   ]
  },
  {
   "cell_type": "code",
   "execution_count": null,
   "id": "ccf26581-4ccc-470d-9312-81c9f4f2cb3d",
   "metadata": {},
   "outputs": [],
   "source": []
  }
 ],
 "metadata": {
  "kernelspec": {
   "display_name": "Python 3 (ipykernel)",
   "language": "python",
   "name": "python3"
  },
  "language_info": {
   "codemirror_mode": {
    "name": "ipython",
    "version": 3
   },
   "file_extension": ".py",
   "mimetype": "text/x-python",
   "name": "python",
   "nbconvert_exporter": "python",
   "pygments_lexer": "ipython3",
   "version": "3.7.11"
  }
 },
 "nbformat": 4,
 "nbformat_minor": 5
}
