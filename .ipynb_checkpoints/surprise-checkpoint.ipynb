{
 "cells": [
  {
   "cell_type": "code",
   "execution_count": 17,
   "id": "7db24dec-fa8e-4144-ad46-a4dfd5a7dc60",
   "metadata": {},
   "outputs": [],
   "source": [
    "import numpy as np\n",
    "import pandas as pd\n",
    "import os\n",
    "import tqdm\n",
    "from sklearn.metrics import mean_squared_error\n",
    "from sklearn.metrics.pairwise import pairwise_distances, cosine_similarity\n",
    "\n",
    "#surprise\n",
    "from surprise import SVD, accuracy, SVDpp, KNNWithMeans, BaselineOnly\n",
    "from surprise import Dataset, Reader\n",
    "from surprise.model_selection import train_test_split, cross_validate, GridSearchCV"
   ]
  },
  {
   "cell_type": "code",
   "execution_count": 2,
   "id": "ce2ef9e8-02e5-4df2-ac53-87b6ef35f785",
   "metadata": {},
   "outputs": [],
   "source": [
    "import warnings\n",
    "warnings.filterwarnings(action='ignore')"
   ]
  },
  {
   "cell_type": "code",
   "execution_count": 3,
   "id": "dad4d86c-56a6-4af8-8d9a-f2ca0e09ec45",
   "metadata": {},
   "outputs": [],
   "source": [
    "#파라미터 설정\n",
    "data_path = 'storage/shop_data/interaction_data.csv'\n",
    "_num_recommendations=10\n",
    "item_id_var = 'ITEM_ID'\n",
    "user_id_var = 'USER_ID'\n",
    "event = 'EVENT_TYPE'\n",
    "timestamp = 'TIMESTAMP'\n",
    "user_var = ['USER_NAME','AGE','GENDER']\n",
    "item_var = ['ITEM_NAME','CATEGORY_L1','STYLE','ITEM_DESCRIPTION','PRICE']"
   ]
  },
  {
   "cell_type": "code",
   "execution_count": 4,
   "id": "43c05046-0662-46f4-b478-2745ce1be4d0",
   "metadata": {},
   "outputs": [],
   "source": [
    "# data_path = 'storage/movie_data/interaction_data.csv'\n",
    "# _num_recommendations=10\n",
    "# item_id_var = 'ITEM_ID'\n",
    "# user_id_var = 'USER_ID'\n",
    "# event = 'EVENT_TYPE'\n",
    "# timestamp = 'TIMESTAMP'\n",
    "# user_var = []\n",
    "# item_var = ['ITEM_NAME', 'CATEGORY_L1']"
   ]
  },
  {
   "cell_type": "code",
   "execution_count": 5,
   "id": "1f685189-8a7e-4558-b5cf-218334b80ea7",
   "metadata": {},
   "outputs": [],
   "source": [
    "data = pd.read_csv(data_path)\n",
    "data[item_id_var] = data[item_id_var].astype(str)\n",
    "data[user_id_var] = data[user_id_var].astype(str)\n",
    "\n",
    "#user 데이터셋 생성\n",
    "user_df = data[[user_id_var]+user_var].drop_duplicates(user_id_var).reset_index(drop=True)\n",
    "\n",
    "#item 데이터셋 생성\n",
    "item_df = data[[item_id_var]+item_var].drop_duplicates(item_id_var).reset_index(drop=True)\n",
    "\n",
    "#interaction 데이터셋 생성\n",
    "interaction_df=data[[item_id_var, user_id_var, event, timestamp]]\n",
    "if data[event].dtypes != float:\n",
    "    interaction_df.loc[:, event] = 5\n",
    "\n",
    "rating_min = 0.5\n",
    "rating_max = np.max(interaction_df[event].values)"
   ]
  },
  {
   "cell_type": "code",
   "execution_count": 6,
   "id": "d97b9ad0-2285-4f24-8711-f382c14d0ce3",
   "metadata": {},
   "outputs": [
    {
     "data": {
      "text/plain": [
       "5"
      ]
     },
     "execution_count": 6,
     "metadata": {},
     "output_type": "execute_result"
    }
   ],
   "source": [
    "rating_max"
   ]
  },
  {
   "cell_type": "code",
   "execution_count": 19,
   "id": "a094ec79-a38f-4ac8-a37b-5965cf87fc7f",
   "metadata": {},
   "outputs": [],
   "source": [
    "reader = Reader(rating_scale = (0, rating_max))\n",
    "df = Dataset.load_from_df(interaction_df[[user_id_var, item_id_var, event]], \n",
    "                          reader = reader)\n",
    "train, test = train_test_split(df, test_size = 0.2, random_state=42)"
   ]
  },
  {
   "cell_type": "code",
   "execution_count": 20,
   "id": "6a8316d6-766c-4d17-bddb-25fa8a53aa51",
   "metadata": {},
   "outputs": [],
   "source": [
    "# # 최적화할 파라미터들을 딕셔너리 형태로 지정.\n",
    "# param_grid = {'n_epochs': [20, 40, 60], 'n_factors': [50, 100, 200] }\n",
    " \n",
    "# # CV를 3개 폴드 세트로 지정, 성능 평가는 rmse, mse 로 수행 하도록 GridSearchCV 구성\n",
    "# gs = GridSearchCV(SVD, param_grid, measures=['rmse', 'mae'], cv=3)\n",
    "# gs.fit(df)\n",
    " \n",
    "# # 최고 RMSE Evaluation 점수와 그때의 하이퍼 파라미터\n",
    "# print(gs.best_score['rmse'])\n",
    "# print(gs.best_params['rmse'])"
   ]
  },
  {
   "cell_type": "code",
   "execution_count": 22,
   "id": "2d4a4b97-c7c6-4e0f-a401-f5ef48bdaaa9",
   "metadata": {},
   "outputs": [
    {
     "name": "stdout",
     "output_type": "stream",
     "text": [
      "Estimating biases using als...\n",
      "RMSE: 0.0000\n",
      "Computing the msd similarity matrix...\n",
      "Done computing similarity matrix.\n",
      "RMSE: 0.0000\n",
      "RMSE: 0.0160\n",
      "RMSE: 0.0089\n"
     ]
    }
   ],
   "source": [
    "algorithms = [BaselineOnly(), KNNWithMeans(), SVD(), SVDpp()]\n",
    "results = []\n",
    "for algo in algorithms:\n",
    "\n",
    "    algo.fit(train)\n",
    "    predictions = algo.test(test)\n",
    "    results.append(accuracy.rmse(predictions))"
   ]
  },
  {
   "cell_type": "code",
   "execution_count": 23,
   "id": "c7bf6104-9f7b-4f3e-aa13-557f378b935b",
   "metadata": {},
   "outputs": [
    {
     "data": {
      "text/plain": [
       "[0.0, 0.0, 0.015997136286369444, 0.00887851542644517]"
      ]
     },
     "execution_count": 23,
     "metadata": {},
     "output_type": "execute_result"
    }
   ],
   "source": [
    "results"
   ]
  },
  {
   "cell_type": "code",
   "execution_count": 9,
   "id": "755676ed-3120-4e69-9962-6058f6412b6a",
   "metadata": {},
   "outputs": [
    {
     "name": "stdout",
     "output_type": "stream",
     "text": [
      "RMSE: 0.0160\n"
     ]
    },
    {
     "data": {
      "text/plain": [
       "0.01597006220637567"
      ]
     },
     "execution_count": 9,
     "metadata": {},
     "output_type": "execute_result"
    }
   ],
   "source": [
    "predictions = algo.test(test)\n",
    "accuracy.rmse(predictions)"
   ]
  },
  {
   "cell_type": "code",
   "execution_count": 11,
   "id": "b446d8e8-b246-466e-96b0-91115f393d0b",
   "metadata": {
    "tags": []
   },
   "outputs": [
    {
     "name": "stderr",
     "output_type": "stream",
     "text": [
      "100%|██████████████████████████████████████████████████████████████████████████████| 5250/5250 [05:54<00:00, 14.82it/s]\n"
     ]
    }
   ],
   "source": [
    "def get_predictions(x):\n",
    "    result = algo.predict(x[user_id_var], x[item_id_var]).est\n",
    "    return result\n",
    "\n",
    "def intersect(a, b):\n",
    "    return list(set(a) & set(b))\n",
    "    \n",
    "#아이템별 precision@k와 recall@k의 값을 알려줌\n",
    "def precision_recall(preds_df, item_df, interaction_df, num, user_id):\n",
    "    \n",
    "    #유저 아이디 df\n",
    "    user_id_df = interaction_df[interaction_df[user_id_var]==user_id]\n",
    "    \n",
    "    #유저 아이디가 본 아이텤 df\n",
    "    user_item_df = item_df[item_df[item_id_var].isin(user_id_df[item_id_var].tolist())]\n",
    "    user_item_list = user_item_df[item_id_var].tolist()\n",
    "    \n",
    "    #총 추천 아이템 추출\n",
    "    sorted_user_predictions = preds_df.sort_values('predictions',ascending=False)\n",
    "    \n",
    "    recommend_total_list_df = sorted_user_predictions.head(num)\n",
    "    recommend_total_list = recommend_total_list_df[item_id_var].tolist()\n",
    "    \n",
    "    #순수 추천 아이템 리스트\n",
    "    recommend_df_list = sorted_user_predictions[~sorted_user_predictions[item_id_var].isin(user_item_list)].head(num)[item_id_var].values.tolist()\n",
    "    recommend_df = item_df[item_df[item_id_var].isin(recommend_df_list)]\n",
    "    \n",
    "    #지표 산정\n",
    "    precision = len(intersect(user_item_list, recommend_total_list))/ len(recommend_total_list)\n",
    "    recall = len(intersect(user_item_list, recommend_total_list)) / len(user_item_list)\n",
    "    \n",
    "    return precision, recall, user_item_df, recommend_df\n",
    "\n",
    "\n",
    "def perf_metric(user_df, item_df, interaction_df, num):\n",
    "    \n",
    "    user_item_dfs = pd.DataFrame()\n",
    "    recommend_dfs = pd.DataFrame()\n",
    "    dict_list = []\n",
    "    for USER_ID in tqdm.tqdm(user_df[user_id_var].values):\n",
    "    #for USER_ID in tqdm.tqdm(['1']): #,'2','3','4']):\n",
    "        preds_df = item_df.copy()\n",
    "        preds_df.loc[:, user_id_var] = USER_ID\n",
    "        #preds_df 계산\n",
    "        preds_df.loc[:, 'predictions'] = preds_df.apply(get_predictions, axis=1)\n",
    "        precision, recall, user_item_df, recommend_df = precision_recall(preds_df, item_df, interaction_df, num, USER_ID)\n",
    "        dict_ = {}\n",
    "        dict_.update({\"userID\" : USER_ID})\n",
    "        dict_.update({f\"precision@{num}\" : precision})\n",
    "        dict_.update({f\"recall@{num}\" : recall})\n",
    "        dict_list.append(dict_)\n",
    "        \n",
    "        #이미 user가 선정했던 item 확인\n",
    "        user_item_df = user_item_df.copy()\n",
    "        user_item_df.loc[:, user_id_var] = USER_ID\n",
    "        user_item_dfs= pd.concat([user_item_dfs, user_item_df], axis=0)\n",
    "    \n",
    "    \n",
    "        #상위 추천 item 중 이미 user가 선정했던 item 제외 후 추천 목록 추출\n",
    "        recommend_df = recommend_df.copy()\n",
    "        recommend_df.loc[:, user_id_var] = USER_ID\n",
    "        recommend_dfs = pd.concat([recommend_dfs, recommend_df], axis=0)\n",
    "    accuracy_df = pd.DataFrame(dict_list)\n",
    "    return accuracy_df, user_item_dfs, recommend_dfs\n",
    "accuracy_df, user_item_df, recommendations_df = perf_metric(user_df, item_df, interaction_df, num = 10) "
   ]
  },
  {
   "cell_type": "code",
   "execution_count": 12,
   "id": "502c7b0f-b652-4a97-8823-57f07a0e1f09",
   "metadata": {},
   "outputs": [
    {
     "name": "stdout",
     "output_type": "stream",
     "text": [
      "(67343, 7)\n",
      "(52500, 7)\n"
     ]
    }
   ],
   "source": [
    "print(user_item_df.shape)\n",
    "print(recommendations_df.shape)"
   ]
  },
  {
   "cell_type": "code",
   "execution_count": 13,
   "id": "41928bbe-49f9-4f53-932f-373484e619af",
   "metadata": {},
   "outputs": [
    {
     "name": "stdout",
     "output_type": "stream",
     "text": [
      "TASK : 사용자별 상품 추천\n",
      "분석 알고리즘 : 상품-사용자 연계 추천\n",
      "사용자 변수: USER_ID (5250)\n",
      "사용자 변수: ITEM_ID (2449)\n",
      "모델 훈련 개수 : 587719개\n",
      "모델 검증 개수 : 58771개\n",
      "검증 기준 : 모든 사용자의 최근 사용(Timestamp) 내역\n",
      "성능 지표 : Precision@K, Recall@K\n",
      "Precision@K : 0.006\n",
      "Recall@K    : 0.005\n"
     ]
    }
   ],
   "source": [
    "print('TASK : 사용자별 상품 추천')\n",
    "print('분석 알고리즘 : 상품-사용자 연계 추천')\n",
    "print(f'사용자 변수: {user_id_var} ({interaction_df[user_id_var].nunique()})')\n",
    "print(f'사용자 변수: {item_id_var} ({interaction_df[item_id_var].nunique()})')\n",
    "print(f'모델 훈련 개수 : {len(interaction_df)}개')\n",
    "print(f'모델 검증 개수 : {int(len(interaction_df)*0.1)}개') #본사업에서 따로 구현 X\n",
    "print('검증 기준 : 모든 사용자의 최근 사용(Timestamp) 내역')\n",
    "print('성능 지표 : Precision@K, Recall@K')\n",
    "print(f\"Precision@K : {np.round(np.mean(accuracy_df['precision@10']),3)}\")\n",
    "print(f\"Recall@K    : {np.round(np.mean(accuracy_df['recall@10']),3)}\")"
   ]
  },
  {
   "cell_type": "code",
   "execution_count": null,
   "id": "ccf26581-4ccc-470d-9312-81c9f4f2cb3d",
   "metadata": {},
   "outputs": [],
   "source": []
  }
 ],
 "metadata": {
  "kernelspec": {
   "display_name": "Python 3 (ipykernel)",
   "language": "python",
   "name": "python3"
  },
  "language_info": {
   "codemirror_mode": {
    "name": "ipython",
    "version": 3
   },
   "file_extension": ".py",
   "mimetype": "text/x-python",
   "name": "python",
   "nbconvert_exporter": "python",
   "pygments_lexer": "ipython3",
   "version": "3.10.8"
  }
 },
 "nbformat": 4,
 "nbformat_minor": 5
}
